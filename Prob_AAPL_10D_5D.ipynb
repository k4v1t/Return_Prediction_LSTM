{
 "cells": [
  {
   "cell_type": "code",
   "execution_count": 43,
   "id": "7a989f60",
   "metadata": {},
   "outputs": [],
   "source": [
    "import pandas as pd\n",
    "import numpy as np\n",
    "from sklearn.metrics import classification_report, roc_auc_score, roc_curve\n",
    "from sklearn.utils.class_weight import compute_class_weight\n",
    "import random\n",
    "\n",
    "import tensorflow as tf\n",
    "from tensorflow.keras.models import Sequential\n",
    "from tensorflow.keras.callbacks import EarlyStopping\n",
    "from tensorflow.keras.optimizers import RMSprop\n",
    "from tensorflow.keras.layers import SimpleRNN, LSTM, GRU, Dense\n",
    "\n",
    "# Set random seed for reproducibility\n",
    "np.random.seed(21)\n",
    "random.seed(21)\n",
    "tf.random.set_seed(21)"
   ]
  },
  {
   "cell_type": "code",
   "execution_count": 44,
   "id": "f0dd7213",
   "metadata": {},
   "outputs": [],
   "source": [
    "# Read in the independent and target variable datasets\n",
    "\n",
    "stock = 'AAPL'\n",
    "window_size = 10\n",
    "pred_horizon = 5\n",
    "\n",
    "X = pd.read_parquet(stock + '_X_' + str(window_size) + 'D.gzip')\n",
    "y = pd.read_parquet(stock + '_y_' + str(pred_horizon) + 'D.gzip')\n",
    "y = y.cumsum(axis=1)\n",
    "y = y.iloc[:, -1:]\n",
    "y_binary = (y > 0).astype(int)"
   ]
  },
  {
   "cell_type": "code",
   "execution_count": 45,
   "id": "d2c47d86",
   "metadata": {},
   "outputs": [],
   "source": [
    "# Split the dataset into training, validation and test datasets\n",
    "\n",
    "num_features = 20\n",
    "\n",
    "q_80 = int(len(X) * .8)\n",
    "q_90 = int(len(X) * .9)\n",
    "\n",
    "X_train, y_train = X[:q_80].to_numpy(), y_binary[:q_80].to_numpy()\n",
    "X_val, y_val = X[q_80:q_90].to_numpy(), y_binary[q_80:q_90].to_numpy()\n",
    "X_test, y_test = X[q_90:].to_numpy(), y_binary[q_90:].to_numpy()\n",
    "\n",
    "X_train = X_train.reshape((-1, window_size, num_features))\n",
    "X_val = X_val.reshape((-1, window_size, num_features))\n",
    "X_test = X_test.reshape((-1, window_size, num_features))"
   ]
  },
  {
   "cell_type": "code",
   "execution_count": 46,
   "id": "0b599a69",
   "metadata": {},
   "outputs": [],
   "source": [
    "# Define the early stopping callback to be used in all neural networks\n",
    "\n",
    "early_stop = EarlyStopping(\n",
    "    monitor='val_accuracy',        \n",
    "    patience=5,                # wait 5 epochs for improvement\n",
    "    restore_best_weights=True  # roll back to best weights\n",
    ")\n",
    "\n",
    "# Calculate class weights from training data\n",
    "\n",
    "y_train_1D = y_train.reshape(-1)\n",
    "\n",
    "class_weights = compute_class_weight(\n",
    "    class_weight='balanced',\n",
    "    classes=np.unique(y_train_1D),\n",
    "    y=y_train_1D\n",
    ")\n",
    "class_weights = dict(enumerate(class_weights))"
   ]
  },
  {
   "cell_type": "code",
   "execution_count": 47,
   "id": "703e463b",
   "metadata": {},
   "outputs": [
    {
     "name": "stdout",
     "output_type": "stream",
     "text": [
      "Epoch 1/100\n"
     ]
    },
    {
     "name": "stderr",
     "output_type": "stream",
     "text": [
      "/opt/anaconda3/lib/python3.12/site-packages/keras/src/layers/rnn/rnn.py:200: UserWarning: Do not pass an `input_shape`/`input_dim` argument to a layer. When using Sequential models, prefer using an `Input(shape)` object as the first layer in the model instead.\n",
      "  super().__init__(**kwargs)\n"
     ]
    },
    {
     "name": "stdout",
     "output_type": "stream",
     "text": [
      "\u001b[1m209/209\u001b[0m \u001b[32m━━━━━━━━━━━━━━━━━━━━\u001b[0m\u001b[37m\u001b[0m \u001b[1m3s\u001b[0m 6ms/step - accuracy: 0.5105 - loss: 0.6929 - val_accuracy: 0.5329 - val_loss: 0.6914\n",
      "Epoch 2/100\n",
      "\u001b[1m209/209\u001b[0m \u001b[32m━━━━━━━━━━━━━━━━━━━━\u001b[0m\u001b[37m\u001b[0m \u001b[1m1s\u001b[0m 5ms/step - accuracy: 0.5256 - loss: 0.6908 - val_accuracy: 0.5377 - val_loss: 0.6928\n",
      "Epoch 3/100\n",
      "\u001b[1m209/209\u001b[0m \u001b[32m━━━━━━━━━━━━━━━━━━━━\u001b[0m\u001b[37m\u001b[0m \u001b[1m1s\u001b[0m 6ms/step - accuracy: 0.5330 - loss: 0.6903 - val_accuracy: 0.5377 - val_loss: 0.6935\n",
      "Epoch 4/100\n",
      "\u001b[1m209/209\u001b[0m \u001b[32m━━━━━━━━━━━━━━━━━━━━\u001b[0m\u001b[37m\u001b[0m \u001b[1m1s\u001b[0m 5ms/step - accuracy: 0.5341 - loss: 0.6900 - val_accuracy: 0.5353 - val_loss: 0.6947\n",
      "Epoch 5/100\n",
      "\u001b[1m209/209\u001b[0m \u001b[32m━━━━━━━━━━━━━━━━━━━━\u001b[0m\u001b[37m\u001b[0m \u001b[1m1s\u001b[0m 4ms/step - accuracy: 0.5350 - loss: 0.6895 - val_accuracy: 0.5317 - val_loss: 0.6960\n",
      "Epoch 6/100\n",
      "\u001b[1m209/209\u001b[0m \u001b[32m━━━━━━━━━━━━━━━━━━━━\u001b[0m\u001b[37m\u001b[0m \u001b[1m1s\u001b[0m 4ms/step - accuracy: 0.5372 - loss: 0.6891 - val_accuracy: 0.5246 - val_loss: 0.6978\n",
      "Epoch 7/100\n",
      "\u001b[1m209/209\u001b[0m \u001b[32m━━━━━━━━━━━━━━━━━━━━\u001b[0m\u001b[37m\u001b[0m \u001b[1m1s\u001b[0m 3ms/step - accuracy: 0.5366 - loss: 0.6886 - val_accuracy: 0.5269 - val_loss: 0.6989\n"
     ]
    },
    {
     "data": {
      "text/plain": [
       "<keras.src.callbacks.history.History at 0x15b64fec0>"
      ]
     },
     "execution_count": 47,
     "metadata": {},
     "output_type": "execute_result"
    }
   ],
   "source": [
    "# Fit an RNN model to the dataset\n",
    "\n",
    "model_RNN = Sequential([\n",
    "    SimpleRNN(16, \n",
    "         input_shape=(window_size, num_features)),\n",
    "    Dense(8, activation='relu'),\n",
    "    Dense(1, activation='sigmoid')\n",
    "])\n",
    "\n",
    "model_RNN.compile(loss='binary_crossentropy', \n",
    "              optimizer=RMSprop(learning_rate=0.001, rho=0.9),\n",
    "              metrics=['accuracy'])\n",
    "\n",
    "model_RNN.fit(X_train, y_train, validation_data=(X_val, y_val), epochs=100, class_weight=class_weights, callbacks=[early_stop])"
   ]
  },
  {
   "cell_type": "code",
   "execution_count": 48,
   "id": "f8f5ba24",
   "metadata": {},
   "outputs": [
    {
     "name": "stdout",
     "output_type": "stream",
     "text": [
      "Epoch 1/100\n",
      "\u001b[1m209/209\u001b[0m \u001b[32m━━━━━━━━━━━━━━━━━━━━\u001b[0m\u001b[37m\u001b[0m \u001b[1m5s\u001b[0m 8ms/step - accuracy: 0.5377 - loss: 0.6906 - val_accuracy: 0.5150 - val_loss: 0.6987\n",
      "Epoch 2/100\n",
      "\u001b[1m209/209\u001b[0m \u001b[32m━━━━━━━━━━━━━━━━━━━━\u001b[0m\u001b[37m\u001b[0m \u001b[1m2s\u001b[0m 8ms/step - accuracy: 0.5305 - loss: 0.6899 - val_accuracy: 0.5198 - val_loss: 0.6982\n",
      "Epoch 3/100\n",
      "\u001b[1m209/209\u001b[0m \u001b[32m━━━━━━━━━━━━━━━━━━━━\u001b[0m\u001b[37m\u001b[0m \u001b[1m2s\u001b[0m 11ms/step - accuracy: 0.5319 - loss: 0.6893 - val_accuracy: 0.5246 - val_loss: 0.6981\n",
      "Epoch 4/100\n",
      "\u001b[1m209/209\u001b[0m \u001b[32m━━━━━━━━━━━━━━━━━━━━\u001b[0m\u001b[37m\u001b[0m \u001b[1m2s\u001b[0m 8ms/step - accuracy: 0.5409 - loss: 0.6888 - val_accuracy: 0.5210 - val_loss: 0.6984\n",
      "Epoch 5/100\n",
      "\u001b[1m209/209\u001b[0m \u001b[32m━━━━━━━━━━━━━━━━━━━━\u001b[0m\u001b[37m\u001b[0m \u001b[1m1s\u001b[0m 7ms/step - accuracy: 0.5422 - loss: 0.6883 - val_accuracy: 0.5186 - val_loss: 0.6981\n",
      "Epoch 6/100\n",
      "\u001b[1m209/209\u001b[0m \u001b[32m━━━━━━━━━━━━━━━━━━━━\u001b[0m\u001b[37m\u001b[0m \u001b[1m1s\u001b[0m 5ms/step - accuracy: 0.5438 - loss: 0.6878 - val_accuracy: 0.5210 - val_loss: 0.6981\n",
      "Epoch 7/100\n",
      "\u001b[1m209/209\u001b[0m \u001b[32m━━━━━━━━━━━━━━━━━━━━\u001b[0m\u001b[37m\u001b[0m \u001b[1m1s\u001b[0m 5ms/step - accuracy: 0.5528 - loss: 0.6873 - val_accuracy: 0.5078 - val_loss: 0.6987\n",
      "Epoch 8/100\n",
      "\u001b[1m209/209\u001b[0m \u001b[32m━━━━━━━━━━━━━━━━━━━━\u001b[0m\u001b[37m\u001b[0m \u001b[1m1s\u001b[0m 6ms/step - accuracy: 0.5466 - loss: 0.6866 - val_accuracy: 0.5078 - val_loss: 0.6996\n"
     ]
    },
    {
     "data": {
      "text/plain": [
       "<keras.src.callbacks.history.History at 0x15a219760>"
      ]
     },
     "execution_count": 48,
     "metadata": {},
     "output_type": "execute_result"
    }
   ],
   "source": [
    "# Fit an LSTM model to the dataset\n",
    "\n",
    "model_LSTM = Sequential([\n",
    "    LSTM(16, \n",
    "         input_shape=(window_size, num_features)),\n",
    "    Dense(8, activation='relu'),\n",
    "    Dense(1, activation='sigmoid')\n",
    "])\n",
    "\n",
    "model_LSTM.compile(loss='binary_crossentropy', \n",
    "              optimizer=RMSprop(learning_rate=0.001, rho=0.9),\n",
    "              metrics=['accuracy'])\n",
    "\n",
    "model_LSTM.fit(X_train, y_train, validation_data=(X_val, y_val), epochs=100, class_weight=class_weights, callbacks=[early_stop])"
   ]
  },
  {
   "cell_type": "code",
   "execution_count": 49,
   "id": "e1478222",
   "metadata": {},
   "outputs": [
    {
     "name": "stdout",
     "output_type": "stream",
     "text": [
      "Epoch 1/100\n",
      "\u001b[1m209/209\u001b[0m \u001b[32m━━━━━━━━━━━━━━━━━━━━\u001b[0m\u001b[37m\u001b[0m \u001b[1m8s\u001b[0m 16ms/step - accuracy: 0.5209 - loss: 0.6955 - val_accuracy: 0.5174 - val_loss: 0.6951\n",
      "Epoch 2/100\n",
      "\u001b[1m209/209\u001b[0m \u001b[32m━━━━━━━━━━━━━━━━━━━━\u001b[0m\u001b[37m\u001b[0m \u001b[1m3s\u001b[0m 14ms/step - accuracy: 0.5331 - loss: 0.6910 - val_accuracy: 0.5162 - val_loss: 0.6971\n",
      "Epoch 3/100\n",
      "\u001b[1m209/209\u001b[0m \u001b[32m━━━━━━━━━━━━━━━━━━━━\u001b[0m\u001b[37m\u001b[0m \u001b[1m2s\u001b[0m 9ms/step - accuracy: 0.5340 - loss: 0.6903 - val_accuracy: 0.5186 - val_loss: 0.6980\n",
      "Epoch 4/100\n",
      "\u001b[1m209/209\u001b[0m \u001b[32m━━━━━━━━━━━━━━━━━━━━\u001b[0m\u001b[37m\u001b[0m \u001b[1m3s\u001b[0m 12ms/step - accuracy: 0.5358 - loss: 0.6899 - val_accuracy: 0.5186 - val_loss: 0.6981\n",
      "Epoch 5/100\n",
      "\u001b[1m209/209\u001b[0m \u001b[32m━━━━━━━━━━━━━━━━━━━━\u001b[0m\u001b[37m\u001b[0m \u001b[1m3s\u001b[0m 14ms/step - accuracy: 0.5380 - loss: 0.6897 - val_accuracy: 0.5090 - val_loss: 0.6984\n",
      "Epoch 6/100\n",
      "\u001b[1m209/209\u001b[0m \u001b[32m━━━━━━━━━━━━━━━━━━━━\u001b[0m\u001b[37m\u001b[0m \u001b[1m2s\u001b[0m 11ms/step - accuracy: 0.5383 - loss: 0.6895 - val_accuracy: 0.5114 - val_loss: 0.6985\n",
      "Epoch 7/100\n",
      "\u001b[1m209/209\u001b[0m \u001b[32m━━━━━━━━━━━━━━━━━━━━\u001b[0m\u001b[37m\u001b[0m \u001b[1m2s\u001b[0m 9ms/step - accuracy: 0.5390 - loss: 0.6894 - val_accuracy: 0.5114 - val_loss: 0.6983\n",
      "Epoch 8/100\n",
      "\u001b[1m209/209\u001b[0m \u001b[32m━━━━━━━━━━━━━━━━━━━━\u001b[0m\u001b[37m\u001b[0m \u001b[1m2s\u001b[0m 9ms/step - accuracy: 0.5394 - loss: 0.6893 - val_accuracy: 0.5102 - val_loss: 0.6984\n"
     ]
    },
    {
     "data": {
      "text/plain": [
       "<keras.src.callbacks.history.History at 0x15c382750>"
      ]
     },
     "execution_count": 49,
     "metadata": {},
     "output_type": "execute_result"
    }
   ],
   "source": [
    "# Fit a GRU model to the dataset\n",
    "\n",
    "model_GRU = Sequential([\n",
    "    GRU(16, \n",
    "         input_shape=(window_size, num_features)),\n",
    "    Dense(8, activation='relu'),\n",
    "    Dense(1, activation='sigmoid')\n",
    "])\n",
    "\n",
    "model_GRU.compile(loss='binary_crossentropy', \n",
    "              optimizer=RMSprop(learning_rate=0.001, rho=0.9),\n",
    "              metrics=['accuracy'])\n",
    "\n",
    "model_GRU.fit(X_train, y_train, validation_data=(X_val, y_val), epochs=100, class_weight=class_weights, callbacks=[early_stop])"
   ]
  },
  {
   "cell_type": "code",
   "execution_count": 55,
   "id": "35a48171",
   "metadata": {},
   "outputs": [],
   "source": [
    "def evaluate_classifier(y_true, y_probs, model_name='Model', threshold=0.5):\n",
    "\n",
    "    # Generate binary predictions based on threshold\n",
    "    y_pred = (y_probs > threshold).astype(int)\n",
    "\n",
    "    # Classification report\n",
    "    report = classification_report(y_true, y_pred, output_dict=True, zero_division=0)\n",
    "\n",
    "    # AUC\n",
    "    auc = roc_auc_score(y_true, y_probs)\n",
    "\n",
    "    # Build a summary row\n",
    "    metrics = {\n",
    "        \"Model\": model_name,\n",
    "        \"Accuracy\": report[\"accuracy\"],\n",
    "        \"Precision (0)\": report[\"0\"][\"precision\"],\n",
    "        \"Recall (0)\": report[\"0\"][\"recall\"],\n",
    "        \"F1 (0)\": report[\"0\"][\"f1-score\"],\n",
    "        \"Precision (1)\": report[\"1\"][\"precision\"],\n",
    "        \"Recall (1)\": report[\"1\"][\"recall\"],\n",
    "        \"F1 (1)\": report[\"1\"][\"f1-score\"],\n",
    "        \"AUC\": auc\n",
    "    }\n",
    "\n",
    "    df_metrics = pd.DataFrame([metrics])\n",
    "    df_metrics = df_metrics.apply(lambda x: round(x, 4))\n",
    "    return df_metrics"
   ]
  },
  {
   "cell_type": "code",
   "execution_count": 56,
   "id": "10b0bb60",
   "metadata": {},
   "outputs": [
    {
     "name": "stdout",
     "output_type": "stream",
     "text": [
      "\u001b[1m27/27\u001b[0m \u001b[32m━━━━━━━━━━━━━━━━━━━━\u001b[0m\u001b[37m\u001b[0m \u001b[1m0s\u001b[0m 3ms/step\n"
     ]
    }
   ],
   "source": [
    "# Predict the probabilities for the test dataset using the RNN model\n",
    "\n",
    "y_RNN = model_RNN.predict(X_test)\n",
    "\n",
    "fpr_RNN, tpr_RNN, thresholds_RNN = roc_curve(y_test, y_RNN)\n",
    "\n",
    "# Choose threshold that gives better trade-off\n",
    "J_RNN = tpr_RNN - fpr_RNN\n",
    "optimal_idx_RNN = np.argmax(J_RNN)\n",
    "optimal_threshold_RNN = thresholds_RNN[optimal_idx_RNN]\n",
    "\n",
    "# Recalculate predictions\n",
    "y_RNN_opt = (y_RNN > optimal_threshold_RNN).astype(int)"
   ]
  },
  {
   "cell_type": "code",
   "execution_count": 57,
   "id": "70f2f448",
   "metadata": {},
   "outputs": [
    {
     "name": "stdout",
     "output_type": "stream",
     "text": [
      "\u001b[1m27/27\u001b[0m \u001b[32m━━━━━━━━━━━━━━━━━━━━\u001b[0m\u001b[37m\u001b[0m \u001b[1m0s\u001b[0m 2ms/step \n"
     ]
    }
   ],
   "source": [
    "# Predict the probabilities for the test dataset using the LSTM model\n",
    "\n",
    "y_LSTM = model_LSTM.predict(X_test)\n",
    "\n",
    "fpr_LSTM, tpr_LSTM, thresholds_LSTM = roc_curve(y_test, y_LSTM)\n",
    "\n",
    "# Choose threshold that gives better trade-off\n",
    "J_LSTM = tpr_LSTM - fpr_LSTM\n",
    "optimal_idx_LSTM = np.argmax(J_LSTM)\n",
    "optimal_threshold_LSTM = thresholds_LSTM[optimal_idx_LSTM]\n",
    "\n",
    "# Recalculate predictions\n",
    "y_LSTM_opt = (y_LSTM > optimal_threshold_LSTM).astype(int)"
   ]
  },
  {
   "cell_type": "code",
   "execution_count": 58,
   "id": "396c054b",
   "metadata": {},
   "outputs": [
    {
     "name": "stdout",
     "output_type": "stream",
     "text": [
      "\u001b[1m27/27\u001b[0m \u001b[32m━━━━━━━━━━━━━━━━━━━━\u001b[0m\u001b[37m\u001b[0m \u001b[1m0s\u001b[0m 2ms/step \n"
     ]
    }
   ],
   "source": [
    "# Predict the probabilities for the test dataset using the GRU model\n",
    "\n",
    "y_GRU = model_GRU.predict(X_test)\n",
    "\n",
    "fpr_GRU, tpr_GRU, thresholds_GRU = roc_curve(y_test, y_GRU)\n",
    "\n",
    "# Choose threshold that gives better trade-off\n",
    "J_GRU = tpr_GRU - fpr_GRU\n",
    "optimal_idx_GRU = np.argmax(J_GRU)\n",
    "optimal_threshold_GRU = thresholds_GRU[optimal_idx_GRU]\n",
    "\n",
    "# Recalculate predictions\n",
    "y_GRU_opt = (y_GRU > optimal_threshold_GRU).astype(int)"
   ]
  },
  {
   "cell_type": "code",
   "execution_count": 59,
   "id": "1dacebdf",
   "metadata": {},
   "outputs": [
    {
     "data": {
      "text/html": [
       "<div>\n",
       "<style scoped>\n",
       "    .dataframe tbody tr th:only-of-type {\n",
       "        vertical-align: middle;\n",
       "    }\n",
       "\n",
       "    .dataframe tbody tr th {\n",
       "        vertical-align: top;\n",
       "    }\n",
       "\n",
       "    .dataframe thead th {\n",
       "        text-align: right;\n",
       "    }\n",
       "</style>\n",
       "<table border=\"1\" class=\"dataframe\">\n",
       "  <thead>\n",
       "    <tr style=\"text-align: right;\">\n",
       "      <th></th>\n",
       "      <th>Model</th>\n",
       "      <th>Accuracy</th>\n",
       "      <th>Precision (0)</th>\n",
       "      <th>Recall (0)</th>\n",
       "      <th>F1 (0)</th>\n",
       "      <th>Precision (1)</th>\n",
       "      <th>Recall (1)</th>\n",
       "      <th>F1 (1)</th>\n",
       "      <th>AUC</th>\n",
       "    </tr>\n",
       "  </thead>\n",
       "  <tbody>\n",
       "    <tr>\n",
       "      <th>0</th>\n",
       "      <td>RNN</td>\n",
       "      <td>0.4647</td>\n",
       "      <td>0.4405</td>\n",
       "      <td>0.9328</td>\n",
       "      <td>0.5984</td>\n",
       "      <td>0.6962</td>\n",
       "      <td>0.1151</td>\n",
       "      <td>0.1975</td>\n",
       "      <td>0.5239</td>\n",
       "    </tr>\n",
       "    <tr>\n",
       "      <th>0</th>\n",
       "      <td>LSTM</td>\n",
       "      <td>0.5138</td>\n",
       "      <td>0.4580</td>\n",
       "      <td>0.7479</td>\n",
       "      <td>0.5681</td>\n",
       "      <td>0.6429</td>\n",
       "      <td>0.3389</td>\n",
       "      <td>0.4438</td>\n",
       "      <td>0.5434</td>\n",
       "    </tr>\n",
       "    <tr>\n",
       "      <th>0</th>\n",
       "      <td>GRU</td>\n",
       "      <td>0.4359</td>\n",
       "      <td>0.4300</td>\n",
       "      <td>0.9804</td>\n",
       "      <td>0.5978</td>\n",
       "      <td>0.6667</td>\n",
       "      <td>0.0293</td>\n",
       "      <td>0.0561</td>\n",
       "      <td>0.5048</td>\n",
       "    </tr>\n",
       "  </tbody>\n",
       "</table>\n",
       "</div>"
      ],
      "text/plain": [
       "  Model  Accuracy  Precision (0)  Recall (0)  F1 (0)  Precision (1)  \\\n",
       "0   RNN    0.4647         0.4405      0.9328  0.5984         0.6962   \n",
       "0  LSTM    0.5138         0.4580      0.7479  0.5681         0.6429   \n",
       "0   GRU    0.4359         0.4300      0.9804  0.5978         0.6667   \n",
       "\n",
       "   Recall (1)  F1 (1)     AUC  \n",
       "0      0.1151  0.1975  0.5239  \n",
       "0      0.3389  0.4438  0.5434  \n",
       "0      0.0293  0.0561  0.5048  "
      ]
     },
     "metadata": {},
     "output_type": "display_data"
    }
   ],
   "source": [
    "results_RNN = evaluate_classifier(y_test, y_RNN_opt, model_name='RNN', threshold=optimal_threshold_RNN)\n",
    "results_LSTM = evaluate_classifier(y_test, y_LSTM_opt, model_name='LSTM', threshold=optimal_threshold_LSTM)\n",
    "results_GRU = evaluate_classifier(y_test, y_GRU_opt, model_name='GRU', threshold=optimal_threshold_GRU)\n",
    "\n",
    "all_results = pd.concat([results_RNN, results_LSTM, results_GRU])\n",
    "display(all_results)\n"
   ]
  },
  {
   "cell_type": "code",
   "execution_count": null,
   "id": "abd17aa3",
   "metadata": {},
   "outputs": [],
   "source": []
  }
 ],
 "metadata": {
  "kernelspec": {
   "display_name": "base",
   "language": "python",
   "name": "python3"
  },
  "language_info": {
   "codemirror_mode": {
    "name": "ipython",
    "version": 3
   },
   "file_extension": ".py",
   "mimetype": "text/x-python",
   "name": "python",
   "nbconvert_exporter": "python",
   "pygments_lexer": "ipython3",
   "version": "3.12.2"
  }
 },
 "nbformat": 4,
 "nbformat_minor": 5
}
