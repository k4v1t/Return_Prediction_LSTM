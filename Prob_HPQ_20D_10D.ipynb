{
 "cells": [
  {
   "cell_type": "code",
   "execution_count": 13,
   "id": "7a989f60",
   "metadata": {},
   "outputs": [],
   "source": [
    "import pandas as pd\n",
    "import numpy as np\n",
    "from sklearn.metrics import classification_report, roc_auc_score, roc_curve\n",
    "from sklearn.utils.class_weight import compute_class_weight\n",
    "import random\n",
    "\n",
    "import tensorflow as tf\n",
    "from tensorflow.keras.models import Sequential\n",
    "from tensorflow.keras.callbacks import EarlyStopping\n",
    "from tensorflow.keras.optimizers import RMSprop\n",
    "from tensorflow.keras.layers import SimpleRNN, LSTM, GRU, Dense\n",
    "\n",
    "# Set random seed for reproducibility\n",
    "np.random.seed(21)\n",
    "random.seed(21)\n",
    "tf.random.set_seed(21)"
   ]
  },
  {
   "cell_type": "code",
   "execution_count": 14,
   "id": "f0dd7213",
   "metadata": {},
   "outputs": [],
   "source": [
    "# Read in the independent and target variable datasets\n",
    "\n",
    "stock = 'HPQ'\n",
    "window_size = 20\n",
    "pred_horizon = 10\n",
    "\n",
    "X = pd.read_parquet(stock + '_X_' + str(window_size) + 'D.gzip')\n",
    "y = pd.read_parquet(stock + '_y_' + str(pred_horizon) + 'D.gzip')\n",
    "y = y.cumsum(axis=1)\n",
    "y = y.iloc[:, -1:]\n",
    "y_binary = (y > 0).astype(int)"
   ]
  },
  {
   "cell_type": "code",
   "execution_count": 15,
   "id": "d2c47d86",
   "metadata": {},
   "outputs": [],
   "source": [
    "# Split the dataset into training, validation and test datasets\n",
    "\n",
    "num_features = 20\n",
    "\n",
    "q_80 = int(len(X) * .8)\n",
    "q_90 = int(len(X) * .9)\n",
    "\n",
    "X_train, y_train = X[:q_80].to_numpy(), y_binary[:q_80].to_numpy()\n",
    "X_val, y_val = X[q_80:q_90].to_numpy(), y_binary[q_80:q_90].to_numpy()\n",
    "X_test, y_test = X[q_90:].to_numpy(), y_binary[q_90:].to_numpy()\n",
    "\n",
    "X_train = X_train.reshape((-1, window_size, num_features))\n",
    "X_val = X_val.reshape((-1, window_size, num_features))\n",
    "X_test = X_test.reshape((-1, window_size, num_features))"
   ]
  },
  {
   "cell_type": "code",
   "execution_count": 16,
   "id": "0b599a69",
   "metadata": {},
   "outputs": [],
   "source": [
    "# Define the early stopping callback to be used in all neural networks\n",
    "\n",
    "early_stop = EarlyStopping(\n",
    "    monitor='val_accuracy',        \n",
    "    patience=5,                # wait 5 epochs for improvement\n",
    "    restore_best_weights=True  # roll back to best weights\n",
    ")\n",
    "\n",
    "# Calculate class weights from training data\n",
    "\n",
    "y_train_1D = y_train.reshape(-1)\n",
    "\n",
    "class_weights = compute_class_weight(\n",
    "    class_weight='balanced',\n",
    "    classes=np.unique(y_train_1D),\n",
    "    y=y_train_1D\n",
    ")\n",
    "class_weights = dict(enumerate(class_weights))"
   ]
  },
  {
   "cell_type": "code",
   "execution_count": 17,
   "id": "703e463b",
   "metadata": {},
   "outputs": [
    {
     "name": "stderr",
     "output_type": "stream",
     "text": [
      "/opt/anaconda3/lib/python3.12/site-packages/keras/src/layers/rnn/rnn.py:200: UserWarning: Do not pass an `input_shape`/`input_dim` argument to a layer. When using Sequential models, prefer using an `Input(shape)` object as the first layer in the model instead.\n",
      "  super().__init__(**kwargs)\n"
     ]
    },
    {
     "name": "stdout",
     "output_type": "stream",
     "text": [
      "Epoch 1/100\n",
      "\u001b[1m302/302\u001b[0m \u001b[32m━━━━━━━━━━━━━━━━━━━━\u001b[0m\u001b[37m\u001b[0m \u001b[1m4s\u001b[0m 7ms/step - accuracy: 0.5150 - loss: 0.6922 - val_accuracy: 0.5141 - val_loss: 0.6948\n",
      "Epoch 2/100\n",
      "\u001b[1m302/302\u001b[0m \u001b[32m━━━━━━━━━━━━━━━━━━━━\u001b[0m\u001b[37m\u001b[0m \u001b[1m2s\u001b[0m 8ms/step - accuracy: 0.5275 - loss: 0.6914 - val_accuracy: 0.5141 - val_loss: 0.6953\n",
      "Epoch 3/100\n",
      "\u001b[1m302/302\u001b[0m \u001b[32m━━━━━━━━━━━━━━━━━━━━\u001b[0m\u001b[37m\u001b[0m \u001b[1m2s\u001b[0m 6ms/step - accuracy: 0.5262 - loss: 0.6909 - val_accuracy: 0.5141 - val_loss: 0.6952\n",
      "Epoch 4/100\n",
      "\u001b[1m302/302\u001b[0m \u001b[32m━━━━━━━━━━━━━━━━━━━━\u001b[0m\u001b[37m\u001b[0m \u001b[1m1s\u001b[0m 4ms/step - accuracy: 0.5332 - loss: 0.6902 - val_accuracy: 0.5141 - val_loss: 0.6958\n",
      "Epoch 5/100\n",
      "\u001b[1m302/302\u001b[0m \u001b[32m━━━━━━━━━━━━━━━━━━━━\u001b[0m\u001b[37m\u001b[0m \u001b[1m2s\u001b[0m 8ms/step - accuracy: 0.5369 - loss: 0.6897 - val_accuracy: 0.5141 - val_loss: 0.6967\n",
      "Epoch 6/100\n",
      "\u001b[1m302/302\u001b[0m \u001b[32m━━━━━━━━━━━━━━━━━━━━\u001b[0m\u001b[37m\u001b[0m \u001b[1m3s\u001b[0m 8ms/step - accuracy: 0.5408 - loss: 0.6891 - val_accuracy: 0.5141 - val_loss: 0.6977\n"
     ]
    },
    {
     "data": {
      "text/plain": [
       "<keras.src.callbacks.history.History at 0x14e876240>"
      ]
     },
     "execution_count": 17,
     "metadata": {},
     "output_type": "execute_result"
    }
   ],
   "source": [
    "# Fit an RNN model to the dataset\n",
    "\n",
    "model_RNN = Sequential([\n",
    "    SimpleRNN(16, \n",
    "         input_shape=(window_size, num_features)),\n",
    "    Dense(8, activation='relu'),\n",
    "    Dense(1, activation='sigmoid')\n",
    "])\n",
    "\n",
    "model_RNN.compile(loss='binary_crossentropy', \n",
    "              optimizer=RMSprop(learning_rate=0.001, rho=0.9),\n",
    "              metrics=['accuracy'])\n",
    "\n",
    "model_RNN.fit(X_train, y_train, validation_data=(X_val, y_val), epochs=100, class_weight=class_weights, callbacks=[early_stop])"
   ]
  },
  {
   "cell_type": "code",
   "execution_count": 18,
   "id": "f8f5ba24",
   "metadata": {},
   "outputs": [
    {
     "name": "stdout",
     "output_type": "stream",
     "text": [
      "Epoch 1/100\n",
      "\u001b[1m302/302\u001b[0m \u001b[32m━━━━━━━━━━━━━━━━━━━━\u001b[0m\u001b[37m\u001b[0m \u001b[1m5s\u001b[0m 9ms/step - accuracy: 0.5116 - loss: 0.6929 - val_accuracy: 0.5075 - val_loss: 0.6924\n",
      "Epoch 2/100\n",
      "\u001b[1m302/302\u001b[0m \u001b[32m━━━━━━━━━━━━━━━━━━━━\u001b[0m\u001b[37m\u001b[0m \u001b[1m4s\u001b[0m 13ms/step - accuracy: 0.5205 - loss: 0.6916 - val_accuracy: 0.5141 - val_loss: 0.6918\n",
      "Epoch 3/100\n",
      "\u001b[1m302/302\u001b[0m \u001b[32m━━━━━━━━━━━━━━━━━━━━\u001b[0m\u001b[37m\u001b[0m \u001b[1m3s\u001b[0m 10ms/step - accuracy: 0.5216 - loss: 0.6914 - val_accuracy: 0.5141 - val_loss: 0.6922\n",
      "Epoch 4/100\n",
      "\u001b[1m302/302\u001b[0m \u001b[32m━━━━━━━━━━━━━━━━━━━━\u001b[0m\u001b[37m\u001b[0m \u001b[1m2s\u001b[0m 8ms/step - accuracy: 0.5193 - loss: 0.6911 - val_accuracy: 0.5141 - val_loss: 0.6936\n",
      "Epoch 5/100\n",
      "\u001b[1m302/302\u001b[0m \u001b[32m━━━━━━━━━━━━━━━━━━━━\u001b[0m\u001b[37m\u001b[0m \u001b[1m2s\u001b[0m 7ms/step - accuracy: 0.5205 - loss: 0.6909 - val_accuracy: 0.5141 - val_loss: 0.6960\n",
      "Epoch 6/100\n",
      "\u001b[1m302/302\u001b[0m \u001b[32m━━━━━━━━━━━━━━━━━━━━\u001b[0m\u001b[37m\u001b[0m \u001b[1m3s\u001b[0m 8ms/step - accuracy: 0.5271 - loss: 0.6906 - val_accuracy: 0.5141 - val_loss: 0.6979\n",
      "Epoch 7/100\n",
      "\u001b[1m302/302\u001b[0m \u001b[32m━━━━━━━━━━━━━━━━━━━━\u001b[0m\u001b[37m\u001b[0m \u001b[1m3s\u001b[0m 10ms/step - accuracy: 0.5348 - loss: 0.6901 - val_accuracy: 0.5141 - val_loss: 0.7006\n"
     ]
    },
    {
     "data": {
      "text/plain": [
       "<keras.src.callbacks.history.History at 0x1534c6fc0>"
      ]
     },
     "execution_count": 18,
     "metadata": {},
     "output_type": "execute_result"
    }
   ],
   "source": [
    "# Fit an LSTM model to the dataset\n",
    "\n",
    "model_LSTM = Sequential([\n",
    "    LSTM(16, \n",
    "         input_shape=(window_size, num_features)),\n",
    "    Dense(8, activation='relu'),\n",
    "    Dense(1, activation='sigmoid')\n",
    "])\n",
    "\n",
    "model_LSTM.compile(loss='binary_crossentropy', \n",
    "              optimizer=RMSprop(learning_rate=0.001, rho=0.9),\n",
    "              metrics=['accuracy'])\n",
    "\n",
    "model_LSTM.fit(X_train, y_train, validation_data=(X_val, y_val), epochs=100, class_weight=class_weights, callbacks=[early_stop])"
   ]
  },
  {
   "cell_type": "code",
   "execution_count": 19,
   "id": "e1478222",
   "metadata": {},
   "outputs": [
    {
     "name": "stdout",
     "output_type": "stream",
     "text": [
      "Epoch 1/100\n",
      "\u001b[1m302/302\u001b[0m \u001b[32m━━━━━━━━━━━━━━━━━━━━\u001b[0m\u001b[37m\u001b[0m \u001b[1m14s\u001b[0m 26ms/step - accuracy: 0.5092 - loss: 0.6952 - val_accuracy: 0.5141 - val_loss: 0.7288\n",
      "Epoch 2/100\n",
      "\u001b[1m302/302\u001b[0m \u001b[32m━━━━━━━━━━━━━━━━━━━━\u001b[0m\u001b[37m\u001b[0m \u001b[1m5s\u001b[0m 17ms/step - accuracy: 0.5172 - loss: 0.6929 - val_accuracy: 0.5141 - val_loss: 0.7280\n",
      "Epoch 3/100\n",
      "\u001b[1m302/302\u001b[0m \u001b[32m━━━━━━━━━━━━━━━━━━━━\u001b[0m\u001b[37m\u001b[0m \u001b[1m6s\u001b[0m 21ms/step - accuracy: 0.5224 - loss: 0.6925 - val_accuracy: 0.5141 - val_loss: 0.7282\n",
      "Epoch 4/100\n",
      "\u001b[1m302/302\u001b[0m \u001b[32m━━━━━━━━━━━━━━━━━━━━\u001b[0m\u001b[37m\u001b[0m \u001b[1m5s\u001b[0m 15ms/step - accuracy: 0.5229 - loss: 0.6924 - val_accuracy: 0.5141 - val_loss: 0.7203\n",
      "Epoch 5/100\n",
      "\u001b[1m302/302\u001b[0m \u001b[32m━━━━━━━━━━━━━━━━━━━━\u001b[0m\u001b[37m\u001b[0m \u001b[1m4s\u001b[0m 12ms/step - accuracy: 0.5244 - loss: 0.6920 - val_accuracy: 0.5141 - val_loss: 0.7134\n",
      "Epoch 6/100\n",
      "\u001b[1m302/302\u001b[0m \u001b[32m━━━━━━━━━━━━━━━━━━━━\u001b[0m\u001b[37m\u001b[0m \u001b[1m3s\u001b[0m 11ms/step - accuracy: 0.5265 - loss: 0.6918 - val_accuracy: 0.5141 - val_loss: 0.7154\n"
     ]
    },
    {
     "data": {
      "text/plain": [
       "<keras.src.callbacks.history.History at 0x153a49340>"
      ]
     },
     "execution_count": 19,
     "metadata": {},
     "output_type": "execute_result"
    }
   ],
   "source": [
    "# Fit a GRU model to the dataset\n",
    "\n",
    "model_GRU = Sequential([\n",
    "    GRU(16, \n",
    "         input_shape=(window_size, num_features)),\n",
    "    Dense(8, activation='relu'),\n",
    "    Dense(1, activation='sigmoid')\n",
    "])\n",
    "\n",
    "model_GRU.compile(loss='binary_crossentropy', \n",
    "              optimizer=RMSprop(learning_rate=0.001, rho=0.9),\n",
    "              metrics=['accuracy'])\n",
    "\n",
    "model_GRU.fit(X_train, y_train, validation_data=(X_val, y_val), epochs=100, class_weight=class_weights, callbacks=[early_stop])"
   ]
  },
  {
   "cell_type": "code",
   "execution_count": 20,
   "id": "35a48171",
   "metadata": {},
   "outputs": [],
   "source": [
    "def evaluate_classifier(y_true, y_probs, model_name='Model', threshold=0.5):\n",
    "\n",
    "    # Generate binary predictions based on threshold\n",
    "    y_pred = (y_probs > threshold).astype(int)\n",
    "\n",
    "    # Classification report\n",
    "    report = classification_report(y_true, y_pred, output_dict=True, zero_division=0)\n",
    "\n",
    "    # AUC\n",
    "    auc = roc_auc_score(y_true, y_probs)\n",
    "\n",
    "    # Build a summary row\n",
    "    metrics = {\n",
    "        \"Model\": model_name,\n",
    "        \"Accuracy\": report[\"accuracy\"],\n",
    "        \"Precision (0)\": report[\"0\"][\"precision\"],\n",
    "        \"Recall (0)\": report[\"0\"][\"recall\"],\n",
    "        \"F1 (0)\": report[\"0\"][\"f1-score\"],\n",
    "        \"Precision (1)\": report[\"1\"][\"precision\"],\n",
    "        \"Recall (1)\": report[\"1\"][\"recall\"],\n",
    "        \"F1 (1)\": report[\"1\"][\"f1-score\"],\n",
    "        \"AUC\": auc\n",
    "    }\n",
    "\n",
    "    df_metrics = pd.DataFrame([metrics])\n",
    "    df_metrics = df_metrics.apply(lambda x: round(x, 4))\n",
    "    return df_metrics"
   ]
  },
  {
   "cell_type": "code",
   "execution_count": 21,
   "id": "10b0bb60",
   "metadata": {},
   "outputs": [
    {
     "name": "stdout",
     "output_type": "stream",
     "text": [
      "\u001b[1m38/38\u001b[0m \u001b[32m━━━━━━━━━━━━━━━━━━━━\u001b[0m\u001b[37m\u001b[0m \u001b[1m1s\u001b[0m 9ms/step\n"
     ]
    }
   ],
   "source": [
    "# Predict the probabilities for the test dataset using the RNN model\n",
    "\n",
    "y_RNN = model_RNN.predict(X_test)\n",
    "\n",
    "fpr_RNN, tpr_RNN, thresholds_RNN = roc_curve(y_test, y_RNN)\n",
    "\n",
    "# Choose threshold that gives better trade-off\n",
    "J_RNN = tpr_RNN - fpr_RNN\n",
    "optimal_idx_RNN = np.argmax(J_RNN)\n",
    "optimal_threshold_RNN = thresholds_RNN[optimal_idx_RNN]\n",
    "\n",
    "# Recalculate predictions\n",
    "y_RNN_opt = (y_RNN > optimal_threshold_RNN).astype(int)"
   ]
  },
  {
   "cell_type": "code",
   "execution_count": 22,
   "id": "70f2f448",
   "metadata": {},
   "outputs": [
    {
     "name": "stdout",
     "output_type": "stream",
     "text": [
      "\u001b[1m38/38\u001b[0m \u001b[32m━━━━━━━━━━━━━━━━━━━━\u001b[0m\u001b[37m\u001b[0m \u001b[1m1s\u001b[0m 11ms/step\n"
     ]
    }
   ],
   "source": [
    "# Predict the probabilities for the test dataset using the LSTM model\n",
    "\n",
    "y_LSTM = model_LSTM.predict(X_test)\n",
    "\n",
    "fpr_LSTM, tpr_LSTM, thresholds_LSTM = roc_curve(y_test, y_LSTM)\n",
    "\n",
    "# Choose threshold that gives better trade-off\n",
    "J_LSTM = tpr_LSTM - fpr_LSTM\n",
    "optimal_idx_LSTM = np.argmax(J_LSTM)\n",
    "optimal_threshold_LSTM = thresholds_LSTM[optimal_idx_LSTM]\n",
    "\n",
    "# Recalculate predictions\n",
    "y_LSTM_opt = (y_LSTM > optimal_threshold_LSTM).astype(int)"
   ]
  },
  {
   "cell_type": "code",
   "execution_count": 23,
   "id": "396c054b",
   "metadata": {},
   "outputs": [
    {
     "name": "stdout",
     "output_type": "stream",
     "text": [
      "\u001b[1m38/38\u001b[0m \u001b[32m━━━━━━━━━━━━━━━━━━━━\u001b[0m\u001b[37m\u001b[0m \u001b[1m1s\u001b[0m 12ms/step\n"
     ]
    }
   ],
   "source": [
    "# Predict the probabilities for the test dataset using the GRU model\n",
    "\n",
    "y_GRU = model_GRU.predict(X_test)\n",
    "\n",
    "fpr_GRU, tpr_GRU, thresholds_GRU = roc_curve(y_test, y_GRU)\n",
    "\n",
    "# Choose threshold that gives better trade-off\n",
    "J_GRU = tpr_GRU - fpr_GRU\n",
    "optimal_idx_GRU = np.argmax(J_GRU)\n",
    "optimal_threshold_GRU = thresholds_GRU[optimal_idx_GRU]\n",
    "\n",
    "# Recalculate predictions\n",
    "y_GRU_opt = (y_GRU > optimal_threshold_GRU).astype(int)"
   ]
  },
  {
   "cell_type": "code",
   "execution_count": 24,
   "id": "1dacebdf",
   "metadata": {},
   "outputs": [
    {
     "data": {
      "text/html": [
       "<div>\n",
       "<style scoped>\n",
       "    .dataframe tbody tr th:only-of-type {\n",
       "        vertical-align: middle;\n",
       "    }\n",
       "\n",
       "    .dataframe tbody tr th {\n",
       "        vertical-align: top;\n",
       "    }\n",
       "\n",
       "    .dataframe thead th {\n",
       "        text-align: right;\n",
       "    }\n",
       "</style>\n",
       "<table border=\"1\" class=\"dataframe\">\n",
       "  <thead>\n",
       "    <tr style=\"text-align: right;\">\n",
       "      <th></th>\n",
       "      <th>Model</th>\n",
       "      <th>Accuracy</th>\n",
       "      <th>Precision (0)</th>\n",
       "      <th>Recall (0)</th>\n",
       "      <th>F1 (0)</th>\n",
       "      <th>Precision (1)</th>\n",
       "      <th>Recall (1)</th>\n",
       "      <th>F1 (1)</th>\n",
       "      <th>AUC</th>\n",
       "    </tr>\n",
       "  </thead>\n",
       "  <tbody>\n",
       "    <tr>\n",
       "      <th>0</th>\n",
       "      <td>RNN</td>\n",
       "      <td>0.4332</td>\n",
       "      <td>0.4303</td>\n",
       "      <td>0.9903</td>\n",
       "      <td>0.5999</td>\n",
       "      <td>0.6667</td>\n",
       "      <td>0.0145</td>\n",
       "      <td>0.0284</td>\n",
       "      <td>0.5024</td>\n",
       "    </tr>\n",
       "    <tr>\n",
       "      <th>0</th>\n",
       "      <td>LSTM</td>\n",
       "      <td>0.4581</td>\n",
       "      <td>0.4413</td>\n",
       "      <td>0.9884</td>\n",
       "      <td>0.6101</td>\n",
       "      <td>0.8723</td>\n",
       "      <td>0.0596</td>\n",
       "      <td>0.1116</td>\n",
       "      <td>0.5240</td>\n",
       "    </tr>\n",
       "    <tr>\n",
       "      <th>0</th>\n",
       "      <td>GRU</td>\n",
       "      <td>0.4631</td>\n",
       "      <td>0.4404</td>\n",
       "      <td>0.9284</td>\n",
       "      <td>0.5974</td>\n",
       "      <td>0.6783</td>\n",
       "      <td>0.1134</td>\n",
       "      <td>0.1943</td>\n",
       "      <td>0.5209</td>\n",
       "    </tr>\n",
       "  </tbody>\n",
       "</table>\n",
       "</div>"
      ],
      "text/plain": [
       "  Model  Accuracy  Precision (0)  Recall (0)  F1 (0)  Precision (1)  \\\n",
       "0   RNN    0.4332         0.4303      0.9903  0.5999         0.6667   \n",
       "0  LSTM    0.4581         0.4413      0.9884  0.6101         0.8723   \n",
       "0   GRU    0.4631         0.4404      0.9284  0.5974         0.6783   \n",
       "\n",
       "   Recall (1)  F1 (1)     AUC  \n",
       "0      0.0145  0.0284  0.5024  \n",
       "0      0.0596  0.1116  0.5240  \n",
       "0      0.1134  0.1943  0.5209  "
      ]
     },
     "metadata": {},
     "output_type": "display_data"
    }
   ],
   "source": [
    "results_RNN = evaluate_classifier(y_test, y_RNN_opt, model_name='RNN', threshold=optimal_threshold_RNN)\n",
    "results_LSTM = evaluate_classifier(y_test, y_LSTM_opt, model_name='LSTM', threshold=optimal_threshold_LSTM)\n",
    "results_GRU = evaluate_classifier(y_test, y_GRU_opt, model_name='GRU', threshold=optimal_threshold_GRU)\n",
    "\n",
    "all_results = pd.concat([results_RNN, results_LSTM, results_GRU])\n",
    "display(all_results)\n"
   ]
  }
 ],
 "metadata": {
  "kernelspec": {
   "display_name": "base",
   "language": "python",
   "name": "python3"
  },
  "language_info": {
   "codemirror_mode": {
    "name": "ipython",
    "version": 3
   },
   "file_extension": ".py",
   "mimetype": "text/x-python",
   "name": "python",
   "nbconvert_exporter": "python",
   "pygments_lexer": "ipython3",
   "version": "3.12.2"
  }
 },
 "nbformat": 4,
 "nbformat_minor": 5
}
