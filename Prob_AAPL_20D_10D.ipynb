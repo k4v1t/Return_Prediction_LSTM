{
 "cells": [
  {
   "cell_type": "code",
   "execution_count": 61,
   "id": "7a989f60",
   "metadata": {},
   "outputs": [],
   "source": [
    "import pandas as pd\n",
    "import numpy as np\n",
    "from sklearn.metrics import classification_report, roc_auc_score, roc_curve\n",
    "from sklearn.utils.class_weight import compute_class_weight\n",
    "import random\n",
    "\n",
    "import tensorflow as tf\n",
    "from tensorflow.keras.models import Sequential\n",
    "from tensorflow.keras.callbacks import EarlyStopping\n",
    "from tensorflow.keras.optimizers import RMSprop\n",
    "from tensorflow.keras.layers import SimpleRNN, LSTM, GRU, Dense\n",
    "\n",
    "# Set random seed for reproducibility\n",
    "np.random.seed(21)\n",
    "random.seed(21)\n",
    "tf.random.set_seed(21)"
   ]
  },
  {
   "cell_type": "code",
   "execution_count": 62,
   "id": "f0dd7213",
   "metadata": {},
   "outputs": [],
   "source": [
    "# Read in the independent and target variable datasets\n",
    "\n",
    "stock = 'AAPL'\n",
    "window_size = 20\n",
    "pred_horizon = 10\n",
    "\n",
    "X = pd.read_parquet(stock + '_X_' + str(window_size) + 'D.gzip')\n",
    "y = pd.read_parquet(stock + '_y_' + str(pred_horizon) + 'D.gzip')\n",
    "y = y.cumsum(axis=1)\n",
    "y = y.iloc[:, -1:]\n",
    "y_binary = (y > 0).astype(int)"
   ]
  },
  {
   "cell_type": "code",
   "execution_count": 63,
   "id": "d2c47d86",
   "metadata": {},
   "outputs": [],
   "source": [
    "# Split the dataset into training, validation and test datasets\n",
    "\n",
    "num_features = 20\n",
    "\n",
    "q_80 = int(len(X) * .8)\n",
    "q_90 = int(len(X) * .9)\n",
    "\n",
    "X_train, y_train = X[:q_80].to_numpy(), y_binary[:q_80].to_numpy()\n",
    "X_val, y_val = X[q_80:q_90].to_numpy(), y_binary[q_80:q_90].to_numpy()\n",
    "X_test, y_test = X[q_90:].to_numpy(), y_binary[q_90:].to_numpy()\n",
    "\n",
    "X_train = X_train.reshape((-1, window_size, num_features))\n",
    "X_val = X_val.reshape((-1, window_size, num_features))\n",
    "X_test = X_test.reshape((-1, window_size, num_features))"
   ]
  },
  {
   "cell_type": "code",
   "execution_count": 64,
   "id": "0b599a69",
   "metadata": {},
   "outputs": [],
   "source": [
    "# Define the early stopping callback to be used in all neural networks\n",
    "\n",
    "early_stop = EarlyStopping(\n",
    "    monitor='val_accuracy',        \n",
    "    patience=5,                # wait 5 epochs for improvement\n",
    "    restore_best_weights=True  # roll back to best weights\n",
    ")\n",
    "\n",
    "# Calculate class weights from training data\n",
    "\n",
    "y_train_1D = y_train.reshape(-1)\n",
    "\n",
    "class_weights = compute_class_weight(\n",
    "    class_weight='balanced',\n",
    "    classes=np.unique(y_train_1D),\n",
    "    y=y_train_1D\n",
    ")\n",
    "class_weights = dict(enumerate(class_weights))"
   ]
  },
  {
   "cell_type": "code",
   "execution_count": 65,
   "id": "703e463b",
   "metadata": {},
   "outputs": [
    {
     "name": "stdout",
     "output_type": "stream",
     "text": [
      "Epoch 1/100\n"
     ]
    },
    {
     "name": "stderr",
     "output_type": "stream",
     "text": [
      "/opt/anaconda3/lib/python3.12/site-packages/keras/src/layers/rnn/rnn.py:200: UserWarning: Do not pass an `input_shape`/`input_dim` argument to a layer. When using Sequential models, prefer using an `Input(shape)` object as the first layer in the model instead.\n",
      "  super().__init__(**kwargs)\n"
     ]
    },
    {
     "name": "stdout",
     "output_type": "stream",
     "text": [
      "\u001b[1m209/209\u001b[0m \u001b[32m━━━━━━━━━━━━━━━━━━━━\u001b[0m\u001b[37m\u001b[0m \u001b[1m4s\u001b[0m 11ms/step - accuracy: 0.4861 - loss: 0.6944 - val_accuracy: 0.4826 - val_loss: 0.6994\n",
      "Epoch 2/100\n",
      "\u001b[1m209/209\u001b[0m \u001b[32m━━━━━━━━━━━━━━━━━━━━\u001b[0m\u001b[37m\u001b[0m \u001b[1m1s\u001b[0m 6ms/step - accuracy: 0.5277 - loss: 0.6929 - val_accuracy: 0.4850 - val_loss: 0.7012\n",
      "Epoch 3/100\n",
      "\u001b[1m209/209\u001b[0m \u001b[32m━━━━━━━━━━━━━━━━━━━━\u001b[0m\u001b[37m\u001b[0m \u001b[1m1s\u001b[0m 5ms/step - accuracy: 0.5292 - loss: 0.6927 - val_accuracy: 0.4946 - val_loss: 0.6997\n",
      "Epoch 4/100\n",
      "\u001b[1m209/209\u001b[0m \u001b[32m━━━━━━━━━━━━━━━━━━━━\u001b[0m\u001b[37m\u001b[0m \u001b[1m1s\u001b[0m 5ms/step - accuracy: 0.5332 - loss: 0.6919 - val_accuracy: 0.5306 - val_loss: 0.6934\n",
      "Epoch 5/100\n",
      "\u001b[1m209/209\u001b[0m \u001b[32m━━━━━━━━━━━━━━━━━━━━\u001b[0m\u001b[37m\u001b[0m \u001b[1m2s\u001b[0m 9ms/step - accuracy: 0.5333 - loss: 0.6910 - val_accuracy: 0.5462 - val_loss: 0.6897\n",
      "Epoch 6/100\n",
      "\u001b[1m209/209\u001b[0m \u001b[32m━━━━━━━━━━━━━━━━━━━━\u001b[0m\u001b[37m\u001b[0m \u001b[1m2s\u001b[0m 7ms/step - accuracy: 0.5296 - loss: 0.6904 - val_accuracy: 0.5474 - val_loss: 0.6907\n",
      "Epoch 7/100\n",
      "\u001b[1m209/209\u001b[0m \u001b[32m━━━━━━━━━━━━━━━━━━━━\u001b[0m\u001b[37m\u001b[0m \u001b[1m1s\u001b[0m 6ms/step - accuracy: 0.5341 - loss: 0.6895 - val_accuracy: 0.5462 - val_loss: 0.6914\n",
      "Epoch 8/100\n",
      "\u001b[1m209/209\u001b[0m \u001b[32m━━━━━━━━━━━━━━━━━━━━\u001b[0m\u001b[37m\u001b[0m \u001b[1m1s\u001b[0m 4ms/step - accuracy: 0.5389 - loss: 0.6893 - val_accuracy: 0.5498 - val_loss: 0.6920\n",
      "Epoch 9/100\n",
      "\u001b[1m209/209\u001b[0m \u001b[32m━━━━━━━━━━━━━━━━━━━━\u001b[0m\u001b[37m\u001b[0m \u001b[1m1s\u001b[0m 5ms/step - accuracy: 0.5401 - loss: 0.6880 - val_accuracy: 0.5522 - val_loss: 0.6924\n",
      "Epoch 10/100\n",
      "\u001b[1m209/209\u001b[0m \u001b[32m━━━━━━━━━━━━━━━━━━━━\u001b[0m\u001b[37m\u001b[0m \u001b[1m1s\u001b[0m 6ms/step - accuracy: 0.5389 - loss: 0.6877 - val_accuracy: 0.5426 - val_loss: 0.6993\n",
      "Epoch 11/100\n",
      "\u001b[1m209/209\u001b[0m \u001b[32m━━━━━━━━━━━━━━━━━━━━\u001b[0m\u001b[37m\u001b[0m \u001b[1m1s\u001b[0m 6ms/step - accuracy: 0.5457 - loss: 0.6863 - val_accuracy: 0.5390 - val_loss: 0.7011\n",
      "Epoch 12/100\n",
      "\u001b[1m209/209\u001b[0m \u001b[32m━━━━━━━━━━━━━━━━━━━━\u001b[0m\u001b[37m\u001b[0m \u001b[1m1s\u001b[0m 6ms/step - accuracy: 0.5480 - loss: 0.6862 - val_accuracy: 0.5210 - val_loss: 0.7118\n",
      "Epoch 13/100\n",
      "\u001b[1m209/209\u001b[0m \u001b[32m━━━━━━━━━━━━━━━━━━━━\u001b[0m\u001b[37m\u001b[0m \u001b[1m1s\u001b[0m 6ms/step - accuracy: 0.5531 - loss: 0.6851 - val_accuracy: 0.5282 - val_loss: 0.7102\n",
      "Epoch 14/100\n",
      "\u001b[1m209/209\u001b[0m \u001b[32m━━━━━━━━━━━━━━━━━━━━\u001b[0m\u001b[37m\u001b[0m \u001b[1m1s\u001b[0m 6ms/step - accuracy: 0.5487 - loss: 0.6843 - val_accuracy: 0.5270 - val_loss: 0.7106\n"
     ]
    },
    {
     "data": {
      "text/plain": [
       "<keras.src.callbacks.history.History at 0x162deac90>"
      ]
     },
     "execution_count": 65,
     "metadata": {},
     "output_type": "execute_result"
    }
   ],
   "source": [
    "# Fit an RNN model to the dataset\n",
    "\n",
    "model_RNN = Sequential([\n",
    "    SimpleRNN(16, \n",
    "         input_shape=(window_size, num_features)),\n",
    "    Dense(8, activation='relu'),\n",
    "    Dense(1, activation='sigmoid')\n",
    "])\n",
    "\n",
    "model_RNN.compile(loss='binary_crossentropy', \n",
    "              optimizer=RMSprop(learning_rate=0.001, rho=0.9),\n",
    "              metrics=['accuracy'])\n",
    "\n",
    "model_RNN.fit(X_train, y_train, validation_data=(X_val, y_val), epochs=100, class_weight=class_weights, callbacks=[early_stop])"
   ]
  },
  {
   "cell_type": "code",
   "execution_count": 66,
   "id": "f8f5ba24",
   "metadata": {},
   "outputs": [
    {
     "name": "stdout",
     "output_type": "stream",
     "text": [
      "Epoch 1/100\n",
      "\u001b[1m209/209\u001b[0m \u001b[32m━━━━━━━━━━━━━━━━━━━━\u001b[0m\u001b[37m\u001b[0m \u001b[1m4s\u001b[0m 12ms/step - accuracy: 0.5143 - loss: 0.6934 - val_accuracy: 0.5066 - val_loss: 0.7099\n",
      "Epoch 2/100\n",
      "\u001b[1m209/209\u001b[0m \u001b[32m━━━━━━━━━━━━━━━━━━━━\u001b[0m\u001b[37m\u001b[0m \u001b[1m3s\u001b[0m 13ms/step - accuracy: 0.5248 - loss: 0.6935 - val_accuracy: 0.5090 - val_loss: 0.7102\n",
      "Epoch 3/100\n",
      "\u001b[1m209/209\u001b[0m \u001b[32m━━━━━━━━━━━━━━━━━━━━\u001b[0m\u001b[37m\u001b[0m \u001b[1m3s\u001b[0m 16ms/step - accuracy: 0.5223 - loss: 0.6930 - val_accuracy: 0.5138 - val_loss: 0.7096\n",
      "Epoch 4/100\n",
      "\u001b[1m209/209\u001b[0m \u001b[32m━━━━━━━━━━━━━━━━━━━━\u001b[0m\u001b[37m\u001b[0m \u001b[1m3s\u001b[0m 13ms/step - accuracy: 0.5258 - loss: 0.6920 - val_accuracy: 0.5138 - val_loss: 0.7094\n",
      "Epoch 5/100\n",
      "\u001b[1m209/209\u001b[0m \u001b[32m━━━━━━━━━━━━━━━━━━━━\u001b[0m\u001b[37m\u001b[0m \u001b[1m3s\u001b[0m 12ms/step - accuracy: 0.5290 - loss: 0.6909 - val_accuracy: 0.5138 - val_loss: 0.7092\n",
      "Epoch 6/100\n",
      "\u001b[1m209/209\u001b[0m \u001b[32m━━━━━━━━━━━━━━━━━━━━\u001b[0m\u001b[37m\u001b[0m \u001b[1m3s\u001b[0m 13ms/step - accuracy: 0.5317 - loss: 0.6892 - val_accuracy: 0.5150 - val_loss: 0.7078\n",
      "Epoch 7/100\n",
      "\u001b[1m209/209\u001b[0m \u001b[32m━━━━━━━━━━━━━━━━━━━━\u001b[0m\u001b[37m\u001b[0m \u001b[1m3s\u001b[0m 12ms/step - accuracy: 0.5392 - loss: 0.6870 - val_accuracy: 0.5282 - val_loss: 0.7051\n",
      "Epoch 8/100\n",
      "\u001b[1m209/209\u001b[0m \u001b[32m━━━━━━━━━━━━━━━━━━━━\u001b[0m\u001b[37m\u001b[0m \u001b[1m2s\u001b[0m 10ms/step - accuracy: 0.5448 - loss: 0.6841 - val_accuracy: 0.5222 - val_loss: 0.7048\n",
      "Epoch 9/100\n",
      "\u001b[1m209/209\u001b[0m \u001b[32m━━━━━━━━━━━━━━━━━━━━\u001b[0m\u001b[37m\u001b[0m \u001b[1m3s\u001b[0m 13ms/step - accuracy: 0.5498 - loss: 0.6814 - val_accuracy: 0.5306 - val_loss: 0.7038\n",
      "Epoch 10/100\n",
      "\u001b[1m209/209\u001b[0m \u001b[32m━━━━━━━━━━━━━━━━━━━━\u001b[0m\u001b[37m\u001b[0m \u001b[1m3s\u001b[0m 14ms/step - accuracy: 0.5477 - loss: 0.6796 - val_accuracy: 0.5222 - val_loss: 0.7051\n",
      "Epoch 11/100\n",
      "\u001b[1m209/209\u001b[0m \u001b[32m━━━━━━━━━━━━━━━━━━━━\u001b[0m\u001b[37m\u001b[0m \u001b[1m3s\u001b[0m 14ms/step - accuracy: 0.5471 - loss: 0.6783 - val_accuracy: 0.5318 - val_loss: 0.7089\n",
      "Epoch 12/100\n",
      "\u001b[1m209/209\u001b[0m \u001b[32m━━━━━━━━━━━━━━━━━━━━\u001b[0m\u001b[37m\u001b[0m \u001b[1m3s\u001b[0m 16ms/step - accuracy: 0.5492 - loss: 0.6775 - val_accuracy: 0.5330 - val_loss: 0.7091\n",
      "Epoch 13/100\n",
      "\u001b[1m209/209\u001b[0m \u001b[32m━━━━━━━━━━━━━━━━━━━━\u001b[0m\u001b[37m\u001b[0m \u001b[1m3s\u001b[0m 12ms/step - accuracy: 0.5536 - loss: 0.6765 - val_accuracy: 0.5306 - val_loss: 0.7090\n",
      "Epoch 14/100\n",
      "\u001b[1m209/209\u001b[0m \u001b[32m━━━━━━━━━━━━━━━━━━━━\u001b[0m\u001b[37m\u001b[0m \u001b[1m3s\u001b[0m 13ms/step - accuracy: 0.5525 - loss: 0.6758 - val_accuracy: 0.5318 - val_loss: 0.7095\n",
      "Epoch 15/100\n",
      "\u001b[1m209/209\u001b[0m \u001b[32m━━━━━━━━━━━━━━━━━━━━\u001b[0m\u001b[37m\u001b[0m \u001b[1m3s\u001b[0m 13ms/step - accuracy: 0.5537 - loss: 0.6742 - val_accuracy: 0.5342 - val_loss: 0.7098\n",
      "Epoch 16/100\n",
      "\u001b[1m209/209\u001b[0m \u001b[32m━━━━━━━━━━━━━━━━━━━━\u001b[0m\u001b[37m\u001b[0m \u001b[1m3s\u001b[0m 14ms/step - accuracy: 0.5561 - loss: 0.6732 - val_accuracy: 0.5354 - val_loss: 0.7094\n",
      "Epoch 17/100\n",
      "\u001b[1m209/209\u001b[0m \u001b[32m━━━━━━━━━━━━━━━━━━━━\u001b[0m\u001b[37m\u001b[0m \u001b[1m2s\u001b[0m 11ms/step - accuracy: 0.5593 - loss: 0.6720 - val_accuracy: 0.5354 - val_loss: 0.7084\n",
      "Epoch 18/100\n",
      "\u001b[1m209/209\u001b[0m \u001b[32m━━━━━━━━━━━━━━━━━━━━\u001b[0m\u001b[37m\u001b[0m \u001b[1m2s\u001b[0m 11ms/step - accuracy: 0.5650 - loss: 0.6709 - val_accuracy: 0.5342 - val_loss: 0.7071\n",
      "Epoch 19/100\n",
      "\u001b[1m209/209\u001b[0m \u001b[32m━━━━━━━━━━━━━━━━━━━━\u001b[0m\u001b[37m\u001b[0m \u001b[1m2s\u001b[0m 11ms/step - accuracy: 0.5659 - loss: 0.6702 - val_accuracy: 0.5318 - val_loss: 0.7054\n",
      "Epoch 20/100\n",
      "\u001b[1m209/209\u001b[0m \u001b[32m━━━━━━━━━━━━━━━━━━━━\u001b[0m\u001b[37m\u001b[0m \u001b[1m2s\u001b[0m 10ms/step - accuracy: 0.5666 - loss: 0.6686 - val_accuracy: 0.5306 - val_loss: 0.7053\n",
      "Epoch 21/100\n",
      "\u001b[1m209/209\u001b[0m \u001b[32m━━━━━━━━━━━━━━━━━━━━\u001b[0m\u001b[37m\u001b[0m \u001b[1m2s\u001b[0m 12ms/step - accuracy: 0.5685 - loss: 0.6675 - val_accuracy: 0.5270 - val_loss: 0.7012\n"
     ]
    },
    {
     "data": {
      "text/plain": [
       "<keras.src.callbacks.history.History at 0x163fb2f60>"
      ]
     },
     "execution_count": 66,
     "metadata": {},
     "output_type": "execute_result"
    }
   ],
   "source": [
    "# Fit an LSTM model to the dataset\n",
    "\n",
    "model_LSTM = Sequential([\n",
    "    LSTM(16, \n",
    "         input_shape=(window_size, num_features)),\n",
    "    Dense(8, activation='relu'),\n",
    "    Dense(1, activation='sigmoid')\n",
    "])\n",
    "\n",
    "model_LSTM.compile(loss='binary_crossentropy', \n",
    "              optimizer=RMSprop(learning_rate=0.001, rho=0.9),\n",
    "              metrics=['accuracy'])\n",
    "\n",
    "model_LSTM.fit(X_train, y_train, validation_data=(X_val, y_val), epochs=100, class_weight=class_weights, callbacks=[early_stop])"
   ]
  },
  {
   "cell_type": "code",
   "execution_count": 67,
   "id": "e1478222",
   "metadata": {},
   "outputs": [
    {
     "name": "stdout",
     "output_type": "stream",
     "text": [
      "Epoch 1/100\n",
      "\u001b[1m209/209\u001b[0m \u001b[32m━━━━━━━━━━━━━━━━━━━━\u001b[0m\u001b[37m\u001b[0m \u001b[1m7s\u001b[0m 18ms/step - accuracy: 0.4739 - loss: 0.6985 - val_accuracy: 0.4886 - val_loss: 0.7015\n",
      "Epoch 2/100\n",
      "\u001b[1m209/209\u001b[0m \u001b[32m━━━━━━━━━━━━━━━━━━━━\u001b[0m\u001b[37m\u001b[0m \u001b[1m4s\u001b[0m 20ms/step - accuracy: 0.5178 - loss: 0.6936 - val_accuracy: 0.5018 - val_loss: 0.7038\n",
      "Epoch 3/100\n",
      "\u001b[1m209/209\u001b[0m \u001b[32m━━━━━━━━━━━━━━━━━━━━\u001b[0m\u001b[37m\u001b[0m \u001b[1m3s\u001b[0m 15ms/step - accuracy: 0.5233 - loss: 0.6931 - val_accuracy: 0.5030 - val_loss: 0.7063\n",
      "Epoch 4/100\n",
      "\u001b[1m209/209\u001b[0m \u001b[32m━━━━━━━━━━━━━━━━━━━━\u001b[0m\u001b[37m\u001b[0m \u001b[1m3s\u001b[0m 13ms/step - accuracy: 0.5239 - loss: 0.6927 - val_accuracy: 0.5090 - val_loss: 0.7083\n",
      "Epoch 5/100\n",
      "\u001b[1m209/209\u001b[0m \u001b[32m━━━━━━━━━━━━━━━━━━━━\u001b[0m\u001b[37m\u001b[0m \u001b[1m2s\u001b[0m 11ms/step - accuracy: 0.5230 - loss: 0.6924 - val_accuracy: 0.5090 - val_loss: 0.7081\n",
      "Epoch 6/100\n",
      "\u001b[1m209/209\u001b[0m \u001b[32m━━━━━━━━━━━━━━━━━━━━\u001b[0m\u001b[37m\u001b[0m \u001b[1m3s\u001b[0m 12ms/step - accuracy: 0.5268 - loss: 0.6919 - val_accuracy: 0.5114 - val_loss: 0.7079\n",
      "Epoch 7/100\n",
      "\u001b[1m209/209\u001b[0m \u001b[32m━━━━━━━━━━━━━━━━━━━━\u001b[0m\u001b[37m\u001b[0m \u001b[1m3s\u001b[0m 12ms/step - accuracy: 0.5295 - loss: 0.6913 - val_accuracy: 0.5198 - val_loss: 0.7084\n",
      "Epoch 8/100\n",
      "\u001b[1m209/209\u001b[0m \u001b[32m━━━━━━━━━━━━━━━━━━━━\u001b[0m\u001b[37m\u001b[0m \u001b[1m2s\u001b[0m 12ms/step - accuracy: 0.5296 - loss: 0.6907 - val_accuracy: 0.5210 - val_loss: 0.7093\n",
      "Epoch 9/100\n",
      "\u001b[1m209/209\u001b[0m \u001b[32m━━━━━━━━━━━━━━━━━━━━\u001b[0m\u001b[37m\u001b[0m \u001b[1m4s\u001b[0m 17ms/step - accuracy: 0.5310 - loss: 0.6902 - val_accuracy: 0.5246 - val_loss: 0.7097\n",
      "Epoch 10/100\n",
      "\u001b[1m209/209\u001b[0m \u001b[32m━━━━━━━━━━━━━━━━━━━━\u001b[0m\u001b[37m\u001b[0m \u001b[1m3s\u001b[0m 13ms/step - accuracy: 0.5337 - loss: 0.6896 - val_accuracy: 0.5258 - val_loss: 0.7103\n",
      "Epoch 11/100\n",
      "\u001b[1m209/209\u001b[0m \u001b[32m━━━━━━━━━━━━━━━━━━━━\u001b[0m\u001b[37m\u001b[0m \u001b[1m2s\u001b[0m 11ms/step - accuracy: 0.5350 - loss: 0.6891 - val_accuracy: 0.5270 - val_loss: 0.7103\n",
      "Epoch 12/100\n",
      "\u001b[1m209/209\u001b[0m \u001b[32m━━━━━━━━━━━━━━━━━━━━\u001b[0m\u001b[37m\u001b[0m \u001b[1m3s\u001b[0m 13ms/step - accuracy: 0.5397 - loss: 0.6886 - val_accuracy: 0.5222 - val_loss: 0.7103\n",
      "Epoch 13/100\n",
      "\u001b[1m209/209\u001b[0m \u001b[32m━━━━━━━━━━━━━━━━━━━━\u001b[0m\u001b[37m\u001b[0m \u001b[1m2s\u001b[0m 11ms/step - accuracy: 0.5407 - loss: 0.6879 - val_accuracy: 0.5246 - val_loss: 0.7098\n",
      "Epoch 14/100\n",
      "\u001b[1m209/209\u001b[0m \u001b[32m━━━━━━━━━━━━━━━━━━━━\u001b[0m\u001b[37m\u001b[0m \u001b[1m2s\u001b[0m 11ms/step - accuracy: 0.5448 - loss: 0.6872 - val_accuracy: 0.5222 - val_loss: 0.7098\n",
      "Epoch 15/100\n",
      "\u001b[1m209/209\u001b[0m \u001b[32m━━━━━━━━━━━━━━━━━━━━\u001b[0m\u001b[37m\u001b[0m \u001b[1m3s\u001b[0m 14ms/step - accuracy: 0.5469 - loss: 0.6866 - val_accuracy: 0.5198 - val_loss: 0.7101\n",
      "Epoch 16/100\n",
      "\u001b[1m209/209\u001b[0m \u001b[32m━━━━━━━━━━━━━━━━━━━━\u001b[0m\u001b[37m\u001b[0m \u001b[1m3s\u001b[0m 14ms/step - accuracy: 0.5524 - loss: 0.6861 - val_accuracy: 0.5210 - val_loss: 0.7109\n"
     ]
    },
    {
     "data": {
      "text/plain": [
       "<keras.src.callbacks.history.History at 0x16180b980>"
      ]
     },
     "execution_count": 67,
     "metadata": {},
     "output_type": "execute_result"
    }
   ],
   "source": [
    "# Fit a GRU model to the dataset\n",
    "\n",
    "model_GRU = Sequential([\n",
    "    GRU(16, \n",
    "         input_shape=(window_size, num_features)),\n",
    "    Dense(8, activation='relu'),\n",
    "    Dense(1, activation='sigmoid')\n",
    "])\n",
    "\n",
    "model_GRU.compile(loss='binary_crossentropy', \n",
    "              optimizer=RMSprop(learning_rate=0.001, rho=0.9),\n",
    "              metrics=['accuracy'])\n",
    "\n",
    "model_GRU.fit(X_train, y_train, validation_data=(X_val, y_val), epochs=100, class_weight=class_weights, callbacks=[early_stop])"
   ]
  },
  {
   "cell_type": "code",
   "execution_count": 73,
   "id": "35a48171",
   "metadata": {},
   "outputs": [],
   "source": [
    "def evaluate_classifier(y_true, y_probs, model_name='Model', threshold=0.5):\n",
    "\n",
    "    # Generate binary predictions based on threshold\n",
    "    y_pred = (y_probs > threshold).astype(int)\n",
    "\n",
    "    # Classification report\n",
    "    report = classification_report(y_true, y_pred, output_dict=True, zero_division=0)\n",
    "\n",
    "    # AUC\n",
    "    auc = roc_auc_score(y_true, y_probs)\n",
    "\n",
    "    # Build a summary row\n",
    "    metrics = {\n",
    "        \"Model\": model_name,\n",
    "        \"Accuracy\": report[\"accuracy\"],\n",
    "        \"Precision (0)\": report[\"0\"][\"precision\"],\n",
    "        \"Recall (0)\": report[\"0\"][\"recall\"],\n",
    "        \"F1 (0)\": report[\"0\"][\"f1-score\"],\n",
    "        \"Precision (1)\": report[\"1\"][\"precision\"],\n",
    "        \"Recall (1)\": report[\"1\"][\"recall\"],\n",
    "        \"F1 (1)\": report[\"1\"][\"f1-score\"],\n",
    "        \"AUC\": auc\n",
    "    }\n",
    "\n",
    "    df_metrics = pd.DataFrame([metrics])\n",
    "    df_metrics = df_metrics.apply(lambda x: round(x, 4))\n",
    "    return df_metrics"
   ]
  },
  {
   "cell_type": "code",
   "execution_count": 74,
   "id": "10b0bb60",
   "metadata": {},
   "outputs": [
    {
     "name": "stdout",
     "output_type": "stream",
     "text": [
      "\u001b[1m27/27\u001b[0m \u001b[32m━━━━━━━━━━━━━━━━━━━━\u001b[0m\u001b[37m\u001b[0m \u001b[1m0s\u001b[0m 5ms/step\n"
     ]
    }
   ],
   "source": [
    "# Predict the probabilities for the test dataset using the RNN model\n",
    "\n",
    "y_RNN = model_RNN.predict(X_test)\n",
    "\n",
    "fpr_RNN, tpr_RNN, thresholds_RNN = roc_curve(y_test, y_RNN)\n",
    "\n",
    "# Choose threshold that gives better trade-off\n",
    "J_RNN = tpr_RNN - fpr_RNN\n",
    "optimal_idx_RNN = np.argmax(J_RNN)\n",
    "optimal_threshold_RNN = thresholds_RNN[optimal_idx_RNN]\n",
    "\n",
    "# Recalculate predictions\n",
    "y_RNN_opt = (y_RNN > optimal_threshold_RNN).astype(int)"
   ]
  },
  {
   "cell_type": "code",
   "execution_count": 75,
   "id": "70f2f448",
   "metadata": {},
   "outputs": [
    {
     "name": "stdout",
     "output_type": "stream",
     "text": [
      "\u001b[1m27/27\u001b[0m \u001b[32m━━━━━━━━━━━━━━━━━━━━\u001b[0m\u001b[37m\u001b[0m \u001b[1m0s\u001b[0m 3ms/step\n"
     ]
    }
   ],
   "source": [
    "# Predict the probabilities for the test dataset using the LSTM model\n",
    "\n",
    "y_LSTM = model_LSTM.predict(X_test)\n",
    "\n",
    "fpr_LSTM, tpr_LSTM, thresholds_LSTM = roc_curve(y_test, y_LSTM)\n",
    "\n",
    "# Choose threshold that gives better trade-off\n",
    "J_LSTM = tpr_LSTM - fpr_LSTM\n",
    "optimal_idx_LSTM = np.argmax(J_LSTM)\n",
    "optimal_threshold_LSTM = thresholds_LSTM[optimal_idx_LSTM]\n",
    "\n",
    "# Recalculate predictions\n",
    "y_LSTM_opt = (y_LSTM > optimal_threshold_LSTM).astype(int)"
   ]
  },
  {
   "cell_type": "code",
   "execution_count": 76,
   "id": "396c054b",
   "metadata": {},
   "outputs": [
    {
     "name": "stdout",
     "output_type": "stream",
     "text": [
      "\u001b[1m27/27\u001b[0m \u001b[32m━━━━━━━━━━━━━━━━━━━━\u001b[0m\u001b[37m\u001b[0m \u001b[1m0s\u001b[0m 3ms/step\n"
     ]
    }
   ],
   "source": [
    "# Predict the probabilities for the test dataset using the GRU model\n",
    "\n",
    "y_GRU = model_GRU.predict(X_test)\n",
    "\n",
    "fpr_GRU, tpr_GRU, thresholds_GRU = roc_curve(y_test, y_GRU)\n",
    "\n",
    "# Choose threshold that gives better trade-off\n",
    "J_GRU = tpr_GRU - fpr_GRU\n",
    "optimal_idx_GRU = np.argmax(J_GRU)\n",
    "optimal_threshold_GRU = thresholds_GRU[optimal_idx_GRU]\n",
    "\n",
    "# Recalculate predictions\n",
    "y_GRU_opt = (y_GRU > optimal_threshold_GRU).astype(int)"
   ]
  },
  {
   "cell_type": "code",
   "execution_count": 77,
   "id": "1dacebdf",
   "metadata": {},
   "outputs": [
    {
     "data": {
      "text/html": [
       "<div>\n",
       "<style scoped>\n",
       "    .dataframe tbody tr th:only-of-type {\n",
       "        vertical-align: middle;\n",
       "    }\n",
       "\n",
       "    .dataframe tbody tr th {\n",
       "        vertical-align: top;\n",
       "    }\n",
       "\n",
       "    .dataframe thead th {\n",
       "        text-align: right;\n",
       "    }\n",
       "</style>\n",
       "<table border=\"1\" class=\"dataframe\">\n",
       "  <thead>\n",
       "    <tr style=\"text-align: right;\">\n",
       "      <th></th>\n",
       "      <th>Model</th>\n",
       "      <th>Accuracy</th>\n",
       "      <th>Precision (0)</th>\n",
       "      <th>Recall (0)</th>\n",
       "      <th>F1 (0)</th>\n",
       "      <th>Precision (1)</th>\n",
       "      <th>Recall (1)</th>\n",
       "      <th>F1 (1)</th>\n",
       "      <th>AUC</th>\n",
       "    </tr>\n",
       "  </thead>\n",
       "  <tbody>\n",
       "    <tr>\n",
       "      <th>0</th>\n",
       "      <td>RNN</td>\n",
       "      <td>0.5635</td>\n",
       "      <td>0.469</td>\n",
       "      <td>0.5828</td>\n",
       "      <td>0.5198</td>\n",
       "      <td>0.6594</td>\n",
       "      <td>0.5504</td>\n",
       "      <td>0.6000</td>\n",
       "      <td>0.5666</td>\n",
       "    </tr>\n",
       "    <tr>\n",
       "      <th>0</th>\n",
       "      <td>LSTM</td>\n",
       "      <td>0.6019</td>\n",
       "      <td>0.800</td>\n",
       "      <td>0.0237</td>\n",
       "      <td>0.0460</td>\n",
       "      <td>0.5995</td>\n",
       "      <td>0.9960</td>\n",
       "      <td>0.7485</td>\n",
       "      <td>0.5098</td>\n",
       "    </tr>\n",
       "    <tr>\n",
       "      <th>0</th>\n",
       "      <td>GRU</td>\n",
       "      <td>0.5743</td>\n",
       "      <td>0.483</td>\n",
       "      <td>0.7130</td>\n",
       "      <td>0.5759</td>\n",
       "      <td>0.7104</td>\n",
       "      <td>0.4798</td>\n",
       "      <td>0.5728</td>\n",
       "      <td>0.5964</td>\n",
       "    </tr>\n",
       "  </tbody>\n",
       "</table>\n",
       "</div>"
      ],
      "text/plain": [
       "  Model  Accuracy  Precision (0)  Recall (0)  F1 (0)  Precision (1)  \\\n",
       "0   RNN    0.5635          0.469      0.5828  0.5198         0.6594   \n",
       "0  LSTM    0.6019          0.800      0.0237  0.0460         0.5995   \n",
       "0   GRU    0.5743          0.483      0.7130  0.5759         0.7104   \n",
       "\n",
       "   Recall (1)  F1 (1)     AUC  \n",
       "0      0.5504  0.6000  0.5666  \n",
       "0      0.9960  0.7485  0.5098  \n",
       "0      0.4798  0.5728  0.5964  "
      ]
     },
     "metadata": {},
     "output_type": "display_data"
    }
   ],
   "source": [
    "results_RNN = evaluate_classifier(y_test, y_RNN_opt, model_name='RNN', threshold=optimal_threshold_RNN)\n",
    "results_LSTM = evaluate_classifier(y_test, y_LSTM_opt, model_name='LSTM', threshold=optimal_threshold_LSTM)\n",
    "results_GRU = evaluate_classifier(y_test, y_GRU_opt, model_name='GRU', threshold=optimal_threshold_GRU)\n",
    "\n",
    "all_results = pd.concat([results_RNN, results_LSTM, results_GRU])\n",
    "display(all_results)\n"
   ]
  }
 ],
 "metadata": {
  "kernelspec": {
   "display_name": "base",
   "language": "python",
   "name": "python3"
  },
  "language_info": {
   "codemirror_mode": {
    "name": "ipython",
    "version": 3
   },
   "file_extension": ".py",
   "mimetype": "text/x-python",
   "name": "python",
   "nbconvert_exporter": "python",
   "pygments_lexer": "ipython3",
   "version": "3.12.2"
  }
 },
 "nbformat": 4,
 "nbformat_minor": 5
}
