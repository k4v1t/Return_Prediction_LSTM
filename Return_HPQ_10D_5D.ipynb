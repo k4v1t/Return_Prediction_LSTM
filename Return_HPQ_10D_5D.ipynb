{
 "cells": [
  {
   "cell_type": "code",
   "execution_count": null,
   "id": "7a989f60",
   "metadata": {},
   "outputs": [
    {
     "name": "stderr",
     "output_type": "stream",
     "text": [
      "2025-04-19 15:48:29.458424: I tensorflow/core/platform/cpu_feature_guard.cc:210] This TensorFlow binary is optimized to use available CPU instructions in performance-critical operations.\n",
      "To enable the following instructions: AVX2 AVX512F AVX512_VNNI FMA, in other operations, rebuild TensorFlow with the appropriate compiler flags.\n"
     ]
    }
   ],
   "source": [
    "import pandas as pd\n",
    "import numpy as np\n",
    "from sklearn.preprocessing import StandardScaler\n",
    "\n",
    "from tensorflow.keras.models import Sequential\n",
    "from tensorflow.keras import regularizers\n",
    "from tensorflow.keras.callbacks import EarlyStopping\n",
    "from tensorflow.keras.optimizers import Adam\n",
    "from tensorflow.keras.layers import SimpleRNN, LSTM, GRU, Dense"
   ]
  },
  {
   "cell_type": "code",
   "execution_count": 2,
   "id": "f0dd7213",
   "metadata": {},
   "outputs": [],
   "source": [
    "# Read in the independent and target variable datasets\n",
    "\n",
    "stock = 'HPQ'\n",
    "window_size = 10\n",
    "pred_horizon = 5\n",
    "\n",
    "X = pd.read_parquet(stock + '_X_' + str(window_size) + 'D.gzip')\n",
    "y = pd.read_parquet(stock + '_y_' + str(pred_horizon) + 'D.gzip')\n",
    "y = y.cumsum(axis=1)\n",
    "y = y.iloc[:, -1:]"
   ]
  },
  {
   "cell_type": "code",
   "execution_count": 3,
   "id": "d2c47d86",
   "metadata": {},
   "outputs": [],
   "source": [
    "# Split the dataset into training, validation and test datasets\n",
    "\n",
    "num_features = 20\n",
    "\n",
    "scaler_y = StandardScaler()\n",
    "\n",
    "q_80 = int(len(X) * .8)\n",
    "q_90 = int(len(X) * .9)\n",
    "\n",
    "X_train, y_train = X[:q_80].to_numpy(), y[:q_80].to_numpy()\n",
    "X_val, y_val = X[q_80:q_90].to_numpy(), y[q_80:q_90].to_numpy()\n",
    "X_test, y_test = X[q_90:].to_numpy(), y[q_90:].to_numpy()\n",
    "\n",
    "X_train = X_train.reshape((-1, window_size, num_features))\n",
    "X_val = X_val.reshape((-1, window_size, num_features))\n",
    "X_test = X_test.reshape((-1, window_size, num_features))\n",
    "\n",
    "y_train_scaled = scaler_y.fit_transform(y_train.reshape(-1, 1))\n",
    "y_val_scaled = scaler_y.transform(y_val.reshape(-1, 1))"
   ]
  },
  {
   "cell_type": "code",
   "execution_count": 4,
   "id": "0b599a69",
   "metadata": {},
   "outputs": [],
   "source": [
    "# Define the early stopping callback to be used in all neural networks\n",
    "\n",
    "early_stop = EarlyStopping(\n",
    "    monitor='val_loss',        \n",
    "    patience=5,                # wait 5 epochs for improvement\n",
    "    restore_best_weights=True  # roll back to best weights\n",
    ")"
   ]
  },
  {
   "cell_type": "code",
   "execution_count": 5,
   "id": "703e463b",
   "metadata": {},
   "outputs": [
    {
     "name": "stderr",
     "output_type": "stream",
     "text": [
      "/opt/anaconda3/lib/python3.12/site-packages/keras/src/layers/rnn/rnn.py:200: UserWarning: Do not pass an `input_shape`/`input_dim` argument to a layer. When using Sequential models, prefer using an `Input(shape)` object as the first layer in the model instead.\n",
      "  super().__init__(**kwargs)\n"
     ]
    },
    {
     "name": "stdout",
     "output_type": "stream",
     "text": [
      "Epoch 1/100\n",
      "\u001b[1m302/302\u001b[0m \u001b[32m━━━━━━━━━━━━━━━━━━━━\u001b[0m\u001b[37m\u001b[0m \u001b[1m6s\u001b[0m 9ms/step - loss: 1.5289 - val_loss: 0.8587\n",
      "Epoch 2/100\n",
      "\u001b[1m302/302\u001b[0m \u001b[32m━━━━━━━━━━━━━━━━━━━━\u001b[0m\u001b[37m\u001b[0m \u001b[1m2s\u001b[0m 7ms/step - loss: 0.8317 - val_loss: 0.7421\n",
      "Epoch 3/100\n",
      "\u001b[1m302/302\u001b[0m \u001b[32m━━━━━━━━━━━━━━━━━━━━\u001b[0m\u001b[37m\u001b[0m \u001b[1m2s\u001b[0m 6ms/step - loss: 0.7632 - val_loss: 0.7289\n",
      "Epoch 4/100\n",
      "\u001b[1m302/302\u001b[0m \u001b[32m━━━━━━━━━━━━━━━━━━━━\u001b[0m\u001b[37m\u001b[0m \u001b[1m2s\u001b[0m 7ms/step - loss: 0.7450 - val_loss: 0.7256\n",
      "Epoch 5/100\n",
      "\u001b[1m302/302\u001b[0m \u001b[32m━━━━━━━━━━━━━━━━━━━━\u001b[0m\u001b[37m\u001b[0m \u001b[1m2s\u001b[0m 7ms/step - loss: 0.7502 - val_loss: 0.7246\n",
      "Epoch 6/100\n",
      "\u001b[1m302/302\u001b[0m \u001b[32m━━━━━━━━━━━━━━━━━━━━\u001b[0m\u001b[37m\u001b[0m \u001b[1m2s\u001b[0m 6ms/step - loss: 0.7498 - val_loss: 0.7243\n",
      "Epoch 7/100\n",
      "\u001b[1m302/302\u001b[0m \u001b[32m━━━━━━━━━━━━━━━━━━━━\u001b[0m\u001b[37m\u001b[0m \u001b[1m2s\u001b[0m 5ms/step - loss: 0.7462 - val_loss: 0.7240\n",
      "Epoch 8/100\n",
      "\u001b[1m302/302\u001b[0m \u001b[32m━━━━━━━━━━━━━━━━━━━━\u001b[0m\u001b[37m\u001b[0m \u001b[1m2s\u001b[0m 5ms/step - loss: 0.7447 - val_loss: 0.7239\n",
      "Epoch 9/100\n",
      "\u001b[1m302/302\u001b[0m \u001b[32m━━━━━━━━━━━━━━━━━━━━\u001b[0m\u001b[37m\u001b[0m \u001b[1m2s\u001b[0m 6ms/step - loss: 0.7381 - val_loss: 0.7239\n",
      "Epoch 10/100\n",
      "\u001b[1m302/302\u001b[0m \u001b[32m━━━━━━━━━━━━━━━━━━━━\u001b[0m\u001b[37m\u001b[0m \u001b[1m2s\u001b[0m 5ms/step - loss: 0.7561 - val_loss: 0.7239\n",
      "Epoch 11/100\n",
      "\u001b[1m302/302\u001b[0m \u001b[32m━━━━━━━━━━━━━━━━━━━━\u001b[0m\u001b[37m\u001b[0m \u001b[1m2s\u001b[0m 6ms/step - loss: 0.7373 - val_loss: 0.7239\n",
      "Epoch 12/100\n",
      "\u001b[1m302/302\u001b[0m \u001b[32m━━━━━━━━━━━━━━━━━━━━\u001b[0m\u001b[37m\u001b[0m \u001b[1m2s\u001b[0m 5ms/step - loss: 0.7393 - val_loss: 0.7239\n",
      "Epoch 13/100\n",
      "\u001b[1m302/302\u001b[0m \u001b[32m━━━━━━━━━━━━━━━━━━━━\u001b[0m\u001b[37m\u001b[0m \u001b[1m2s\u001b[0m 6ms/step - loss: 0.7460 - val_loss: 0.7239\n"
     ]
    },
    {
     "data": {
      "text/plain": [
       "<keras.src.callbacks.history.History at 0x151cede80>"
      ]
     },
     "execution_count": 5,
     "metadata": {},
     "output_type": "execute_result"
    }
   ],
   "source": [
    "# Fit an RNN model to the dataset\n",
    "\n",
    "model_RNN = Sequential([\n",
    "    SimpleRNN(128, \n",
    "         input_shape=(window_size, num_features), \n",
    "         dropout=0.2,               # dropout on input (per time step)\n",
    "         recurrent_dropout=0.2),    # dropout on hidden state (across time)\n",
    "    Dense(64, activation='relu', kernel_regularizer=regularizers.l1(0.001)),\n",
    "    Dense(32, activation='relu', kernel_regularizer=regularizers.l1(0.001)),\n",
    "    Dense(16, activation='relu', kernel_regularizer=regularizers.l1(0.001)),\n",
    "    Dense(8, activation='relu', kernel_regularizer=regularizers.l1(0.001)),\n",
    "    Dense(1)\n",
    "])\n",
    "\n",
    "model_RNN.compile(loss='mean_absolute_error', \n",
    "              optimizer=Adam(learning_rate=0.001))\n",
    "\n",
    "model_RNN.fit(X_train, y_train_scaled, validation_data=(X_val, y_val_scaled), epochs=100, callbacks=[early_stop])"
   ]
  },
  {
   "cell_type": "code",
   "execution_count": 6,
   "id": "f8f5ba24",
   "metadata": {},
   "outputs": [
    {
     "name": "stdout",
     "output_type": "stream",
     "text": [
      "Epoch 1/100\n",
      "\u001b[1m302/302\u001b[0m \u001b[32m━━━━━━━━━━━━━━━━━━━━\u001b[0m\u001b[37m\u001b[0m \u001b[1m12s\u001b[0m 24ms/step - loss: 1.3765 - val_loss: 0.7518\n",
      "Epoch 2/100\n",
      "\u001b[1m302/302\u001b[0m \u001b[32m━━━━━━━━━━━━━━━━━━━━\u001b[0m\u001b[37m\u001b[0m \u001b[1m6s\u001b[0m 20ms/step - loss: 0.7659 - val_loss: 0.7275\n",
      "Epoch 3/100\n",
      "\u001b[1m302/302\u001b[0m \u001b[32m━━━━━━━━━━━━━━━━━━━━\u001b[0m\u001b[37m\u001b[0m \u001b[1m6s\u001b[0m 20ms/step - loss: 0.7406 - val_loss: 0.7249\n",
      "Epoch 4/100\n",
      "\u001b[1m302/302\u001b[0m \u001b[32m━━━━━━━━━━━━━━━━━━━━\u001b[0m\u001b[37m\u001b[0m \u001b[1m6s\u001b[0m 20ms/step - loss: 0.7499 - val_loss: 0.7242\n",
      "Epoch 5/100\n",
      "\u001b[1m302/302\u001b[0m \u001b[32m━━━━━━━━━━━━━━━━━━━━\u001b[0m\u001b[37m\u001b[0m \u001b[1m6s\u001b[0m 20ms/step - loss: 0.7393 - val_loss: 0.7240\n",
      "Epoch 6/100\n",
      "\u001b[1m302/302\u001b[0m \u001b[32m━━━━━━━━━━━━━━━━━━━━\u001b[0m\u001b[37m\u001b[0m \u001b[1m6s\u001b[0m 20ms/step - loss: 0.7469 - val_loss: 0.7240\n",
      "Epoch 7/100\n",
      "\u001b[1m302/302\u001b[0m \u001b[32m━━━━━━━━━━━━━━━━━━━━\u001b[0m\u001b[37m\u001b[0m \u001b[1m6s\u001b[0m 20ms/step - loss: 0.7557 - val_loss: 0.7240\n",
      "Epoch 8/100\n",
      "\u001b[1m302/302\u001b[0m \u001b[32m━━━━━━━━━━━━━━━━━━━━\u001b[0m\u001b[37m\u001b[0m \u001b[1m6s\u001b[0m 20ms/step - loss: 0.7444 - val_loss: 0.7240\n",
      "Epoch 9/100\n",
      "\u001b[1m302/302\u001b[0m \u001b[32m━━━━━━━━━━━━━━━━━━━━\u001b[0m\u001b[37m\u001b[0m \u001b[1m6s\u001b[0m 20ms/step - loss: 0.7419 - val_loss: 0.7240\n",
      "Epoch 10/100\n",
      "\u001b[1m302/302\u001b[0m \u001b[32m━━━━━━━━━━━━━━━━━━━━\u001b[0m\u001b[37m\u001b[0m \u001b[1m6s\u001b[0m 20ms/step - loss: 0.7403 - val_loss: 0.7240\n",
      "Epoch 11/100\n",
      "\u001b[1m302/302\u001b[0m \u001b[32m━━━━━━━━━━━━━━━━━━━━\u001b[0m\u001b[37m\u001b[0m \u001b[1m6s\u001b[0m 20ms/step - loss: 0.7381 - val_loss: 0.7240\n",
      "Epoch 12/100\n",
      "\u001b[1m302/302\u001b[0m \u001b[32m━━━━━━━━━━━━━━━━━━━━\u001b[0m\u001b[37m\u001b[0m \u001b[1m6s\u001b[0m 20ms/step - loss: 0.7427 - val_loss: 0.7240\n",
      "Epoch 13/100\n",
      "\u001b[1m302/302\u001b[0m \u001b[32m━━━━━━━━━━━━━━━━━━━━\u001b[0m\u001b[37m\u001b[0m \u001b[1m6s\u001b[0m 21ms/step - loss: 0.7480 - val_loss: 0.7240\n",
      "Epoch 14/100\n",
      "\u001b[1m302/302\u001b[0m \u001b[32m━━━━━━━━━━━━━━━━━━━━\u001b[0m\u001b[37m\u001b[0m \u001b[1m6s\u001b[0m 21ms/step - loss: 0.7488 - val_loss: 0.7240\n",
      "Epoch 15/100\n",
      "\u001b[1m302/302\u001b[0m \u001b[32m━━━━━━━━━━━━━━━━━━━━\u001b[0m\u001b[37m\u001b[0m \u001b[1m6s\u001b[0m 20ms/step - loss: 0.7386 - val_loss: 0.7240\n",
      "Epoch 16/100\n",
      "\u001b[1m302/302\u001b[0m \u001b[32m━━━━━━━━━━━━━━━━━━━━\u001b[0m\u001b[37m\u001b[0m \u001b[1m6s\u001b[0m 20ms/step - loss: 0.7661 - val_loss: 0.7240\n"
     ]
    },
    {
     "data": {
      "text/plain": [
       "<keras.src.callbacks.history.History at 0x1529c86e0>"
      ]
     },
     "execution_count": 6,
     "metadata": {},
     "output_type": "execute_result"
    }
   ],
   "source": [
    "# Fit an LSTM model to the dataset\n",
    "\n",
    "model_LSTM = Sequential([\n",
    "    LSTM(128, \n",
    "         input_shape=(window_size, num_features), \n",
    "         dropout=0.2,               # dropout on input (per time step)\n",
    "         recurrent_dropout=0.2),    # dropout on hidden state (across time)\n",
    "    Dense(64, activation='relu', kernel_regularizer=regularizers.l1(0.001)),\n",
    "    Dense(32, activation='relu', kernel_regularizer=regularizers.l1(0.001)),\n",
    "    Dense(16, activation='relu', kernel_regularizer=regularizers.l1(0.001)),\n",
    "    Dense(8, activation='relu', kernel_regularizer=regularizers.l1(0.001)),\n",
    "    Dense(1)\n",
    "])\n",
    "\n",
    "model_LSTM.compile(loss='mean_absolute_error', \n",
    "              optimizer=Adam(learning_rate=0.001))\n",
    "\n",
    "model_LSTM.fit(X_train, y_train_scaled, validation_data=(X_val, y_val_scaled), epochs=100, callbacks=[early_stop])"
   ]
  },
  {
   "cell_type": "code",
   "execution_count": 7,
   "id": "e1478222",
   "metadata": {},
   "outputs": [
    {
     "name": "stdout",
     "output_type": "stream",
     "text": [
      "Epoch 1/100\n",
      "\u001b[1m302/302\u001b[0m \u001b[32m━━━━━━━━━━━━━━━━━━━━\u001b[0m\u001b[37m\u001b[0m \u001b[1m12s\u001b[0m 23ms/step - loss: 1.3438 - val_loss: 0.7438\n",
      "Epoch 2/100\n",
      "\u001b[1m302/302\u001b[0m \u001b[32m━━━━━━━━━━━━━━━━━━━━\u001b[0m\u001b[37m\u001b[0m \u001b[1m5s\u001b[0m 18ms/step - loss: 0.7631 - val_loss: 0.7253\n",
      "Epoch 3/100\n",
      "\u001b[1m302/302\u001b[0m \u001b[32m━━━━━━━━━━━━━━━━━━━━\u001b[0m\u001b[37m\u001b[0m \u001b[1m6s\u001b[0m 19ms/step - loss: 0.7482 - val_loss: 0.7242\n",
      "Epoch 4/100\n",
      "\u001b[1m302/302\u001b[0m \u001b[32m━━━━━━━━━━━━━━━━━━━━\u001b[0m\u001b[37m\u001b[0m \u001b[1m5s\u001b[0m 16ms/step - loss: 0.7414 - val_loss: 0.7240\n",
      "Epoch 5/100\n",
      "\u001b[1m302/302\u001b[0m \u001b[32m━━━━━━━━━━━━━━━━━━━━\u001b[0m\u001b[37m\u001b[0m \u001b[1m5s\u001b[0m 16ms/step - loss: 0.7396 - val_loss: 0.7240\n",
      "Epoch 6/100\n",
      "\u001b[1m302/302\u001b[0m \u001b[32m━━━━━━━━━━━━━━━━━━━━\u001b[0m\u001b[37m\u001b[0m \u001b[1m5s\u001b[0m 16ms/step - loss: 0.7273 - val_loss: 0.7240\n",
      "Epoch 7/100\n",
      "\u001b[1m302/302\u001b[0m \u001b[32m━━━━━━━━━━━━━━━━━━━━\u001b[0m\u001b[37m\u001b[0m \u001b[1m5s\u001b[0m 16ms/step - loss: 0.7425 - val_loss: 0.7240\n",
      "Epoch 8/100\n",
      "\u001b[1m302/302\u001b[0m \u001b[32m━━━━━━━━━━━━━━━━━━━━\u001b[0m\u001b[37m\u001b[0m \u001b[1m5s\u001b[0m 16ms/step - loss: 0.7372 - val_loss: 0.7240\n",
      "Epoch 9/100\n",
      "\u001b[1m302/302\u001b[0m \u001b[32m━━━━━━━━━━━━━━━━━━━━\u001b[0m\u001b[37m\u001b[0m \u001b[1m5s\u001b[0m 16ms/step - loss: 0.7469 - val_loss: 0.7240\n",
      "Epoch 10/100\n",
      "\u001b[1m302/302\u001b[0m \u001b[32m━━━━━━━━━━━━━━━━━━━━\u001b[0m\u001b[37m\u001b[0m \u001b[1m5s\u001b[0m 16ms/step - loss: 0.7527 - val_loss: 0.7240\n",
      "Epoch 11/100\n",
      "\u001b[1m302/302\u001b[0m \u001b[32m━━━━━━━━━━━━━━━━━━━━\u001b[0m\u001b[37m\u001b[0m \u001b[1m5s\u001b[0m 16ms/step - loss: 0.7456 - val_loss: 0.7240\n",
      "Epoch 12/100\n",
      "\u001b[1m302/302\u001b[0m \u001b[32m━━━━━━━━━━━━━━━━━━━━\u001b[0m\u001b[37m\u001b[0m \u001b[1m5s\u001b[0m 16ms/step - loss: 0.7461 - val_loss: 0.7240\n",
      "Epoch 13/100\n",
      "\u001b[1m302/302\u001b[0m \u001b[32m━━━━━━━━━━━━━━━━━━━━\u001b[0m\u001b[37m\u001b[0m \u001b[1m5s\u001b[0m 16ms/step - loss: 0.7466 - val_loss: 0.7240\n"
     ]
    },
    {
     "data": {
      "text/plain": [
       "<keras.src.callbacks.history.History at 0x156084f20>"
      ]
     },
     "execution_count": 7,
     "metadata": {},
     "output_type": "execute_result"
    }
   ],
   "source": [
    "# Fit a GRU model to the dataset\n",
    "\n",
    "model_GRU = Sequential([\n",
    "    GRU(128, \n",
    "         input_shape=(window_size, num_features), \n",
    "         dropout=0.2,               # dropout on input (per time step)\n",
    "         recurrent_dropout=0.2),    # dropout on hidden state (across time)\n",
    "    Dense(64, activation='relu', kernel_regularizer=regularizers.l1(0.001)),\n",
    "    Dense(32, activation='relu', kernel_regularizer=regularizers.l1(0.001)),\n",
    "    Dense(16, activation='relu', kernel_regularizer=regularizers.l1(0.001)),\n",
    "    Dense(8, activation='relu', kernel_regularizer=regularizers.l1(0.001)),\n",
    "    Dense(1)\n",
    "])\n",
    "\n",
    "model_GRU.compile(loss='mean_absolute_error', \n",
    "              optimizer=Adam(learning_rate=0.001))\n",
    "\n",
    "model_GRU.fit(X_train, y_train_scaled, validation_data=(X_val, y_val_scaled), epochs=100, callbacks=[early_stop])"
   ]
  },
  {
   "cell_type": "code",
   "execution_count": 8,
   "id": "851f759d",
   "metadata": {},
   "outputs": [],
   "source": [
    "# First calculate the baseline absolute errors \n",
    "train_baseline_errors = np.abs(y_train)\n",
    "val_baseline_errors = np.abs(y_val)\n",
    "test_baseline_errors = np.abs(y_test)\n",
    "\n",
    "# Calculate the mean absolute baseline errors for each dataset\n",
    "avg_train_baseline_errors = train_baseline_errors.mean(axis=0)[0]\n",
    "avg_val_baseline_errors = val_baseline_errors.mean(axis=0)[0]\n",
    "avg_test_baseline_errors = test_baseline_errors.mean(axis=0)[0]"
   ]
  },
  {
   "cell_type": "code",
   "execution_count": 9,
   "id": "e8ea1083",
   "metadata": {},
   "outputs": [
    {
     "name": "stdout",
     "output_type": "stream",
     "text": [
      "\u001b[1m302/302\u001b[0m \u001b[32m━━━━━━━━━━━━━━━━━━━━\u001b[0m\u001b[37m\u001b[0m \u001b[1m1s\u001b[0m 3ms/step\n",
      "\u001b[1m38/38\u001b[0m \u001b[32m━━━━━━━━━━━━━━━━━━━━\u001b[0m\u001b[37m\u001b[0m \u001b[1m0s\u001b[0m 3ms/step\n",
      "\u001b[1m38/38\u001b[0m \u001b[32m━━━━━━━━━━━━━━━━━━━━\u001b[0m\u001b[37m\u001b[0m \u001b[1m0s\u001b[0m 3ms/step\n"
     ]
    }
   ],
   "source": [
    "## Predict the return (close) using the trained RNN model and calculate errors\n",
    "\n",
    "# Train dataset\n",
    "y_train_pred_scaled_RNN = model_RNN.predict(X_train)\n",
    "y_train_pred_RNN = scaler_y.inverse_transform(y_train_pred_scaled_RNN)\n",
    "train_errors_RNN = np.abs(y_train_pred_RNN - y_train)\n",
    "\n",
    "# Validation dataset\n",
    "y_val_pred_scaled_RNN = model_RNN.predict(X_val)\n",
    "y_val_pred_RNN = scaler_y.inverse_transform(y_val_pred_scaled_RNN)\n",
    "val_errors_RNN = np.abs(y_val_pred_RNN - y_val)\n",
    "\n",
    "# Test dataset\n",
    "y_test_pred_scaled_RNN = model_RNN.predict(X_test)\n",
    "y_test_pred_RNN = scaler_y.inverse_transform(y_test_pred_scaled_RNN)\n",
    "test_errors_RNN = np.abs(y_test_pred_RNN - y_test)\n",
    "\n",
    "# Calculate the mean absolute errors for each dataset\n",
    "avg_train_errors_RNN = train_errors_RNN.mean(axis=0)[0]\n",
    "avg_val_errors_RNN = val_errors_RNN.mean(axis=0)[0]\n",
    "avg_test_errors_RNN = test_errors_RNN.mean(axis=0)[0]"
   ]
  },
  {
   "cell_type": "code",
   "execution_count": 10,
   "id": "de28b66f",
   "metadata": {},
   "outputs": [
    {
     "name": "stdout",
     "output_type": "stream",
     "text": [
      "\u001b[1m302/302\u001b[0m \u001b[32m━━━━━━━━━━━━━━━━━━━━\u001b[0m\u001b[37m\u001b[0m \u001b[1m2s\u001b[0m 7ms/step\n",
      "\u001b[1m38/38\u001b[0m \u001b[32m━━━━━━━━━━━━━━━━━━━━\u001b[0m\u001b[37m\u001b[0m \u001b[1m0s\u001b[0m 6ms/step\n",
      "\u001b[1m38/38\u001b[0m \u001b[32m━━━━━━━━━━━━━━━━━━━━\u001b[0m\u001b[37m\u001b[0m \u001b[1m0s\u001b[0m 6ms/step\n"
     ]
    }
   ],
   "source": [
    "## Predict the return (close) using the trained LSTM model and calculate errors\n",
    "\n",
    "# Train dataset\n",
    "y_train_pred_scaled_LSTM = model_LSTM.predict(X_train)\n",
    "y_train_pred_LSTM = scaler_y.inverse_transform(y_train_pred_scaled_LSTM)\n",
    "train_errors_LSTM = np.abs(y_train_pred_LSTM - y_train)\n",
    "\n",
    "# Validation dataset\n",
    "y_val_pred_scaled_LSTM = model_LSTM.predict(X_val)\n",
    "y_val_pred_LSTM = scaler_y.inverse_transform(y_val_pred_scaled_LSTM)\n",
    "val_errors_LSTM = np.abs(y_val_pred_LSTM - y_val)\n",
    "\n",
    "# Test dataset\n",
    "y_test_pred_scaled_LSTM = model_LSTM.predict(X_test)\n",
    "y_test_pred_LSTM = scaler_y.inverse_transform(y_test_pred_scaled_LSTM)\n",
    "test_errors_LSTM = np.abs(y_test_pred_LSTM - y_test)\n",
    "\n",
    "# Calculate the mean absolute errors for each dataset\n",
    "avg_train_errors_LSTM = train_errors_LSTM.mean(axis=0)[0]\n",
    "avg_val_errors_LSTM = val_errors_LSTM.mean(axis=0)[0]\n",
    "avg_test_errors_LSTM = test_errors_LSTM.mean(axis=0)[0]"
   ]
  },
  {
   "cell_type": "code",
   "execution_count": 11,
   "id": "1e71d616",
   "metadata": {},
   "outputs": [
    {
     "name": "stdout",
     "output_type": "stream",
     "text": [
      "\u001b[1m302/302\u001b[0m \u001b[32m━━━━━━━━━━━━━━━━━━━━\u001b[0m\u001b[37m\u001b[0m \u001b[1m2s\u001b[0m 6ms/step\n",
      "\u001b[1m38/38\u001b[0m \u001b[32m━━━━━━━━━━━━━━━━━━━━\u001b[0m\u001b[37m\u001b[0m \u001b[1m0s\u001b[0m 5ms/step\n",
      "\u001b[1m38/38\u001b[0m \u001b[32m━━━━━━━━━━━━━━━━━━━━\u001b[0m\u001b[37m\u001b[0m \u001b[1m0s\u001b[0m 5ms/step\n"
     ]
    }
   ],
   "source": [
    "## Predict the return (close) using the trained GRU model and calculate errors\n",
    "\n",
    "# Train dataset\n",
    "y_train_pred_scaled_GRU = model_GRU.predict(X_train)\n",
    "y_train_pred_GRU = scaler_y.inverse_transform(y_train_pred_scaled_GRU)\n",
    "train_errors_GRU = np.abs(y_train_pred_GRU - y_train)\n",
    "\n",
    "# Validation dataset\n",
    "y_val_pred_scaled_GRU = model_GRU.predict(X_val)\n",
    "y_val_pred_GRU = scaler_y.inverse_transform(y_val_pred_scaled_GRU)\n",
    "val_errors_GRU = np.abs(y_val_pred_GRU - y_val)\n",
    "\n",
    "# Test dataset\n",
    "y_test_pred_scaled_GRU = model_GRU.predict(X_test)\n",
    "y_test_pred_GRU = scaler_y.inverse_transform(y_test_pred_scaled_GRU)\n",
    "test_errors_GRU = np.abs(y_test_pred_GRU - y_test)\n",
    "\n",
    "# Calculate the mean absolute errors for each dataset\n",
    "avg_train_errors_GRU = train_errors_GRU.mean(axis=0)[0]\n",
    "avg_val_errors_GRU = val_errors_GRU.mean(axis=0)[0]\n",
    "avg_test_errors_GRU = test_errors_GRU.mean(axis=0)[0]"
   ]
  },
  {
   "cell_type": "code",
   "execution_count": 12,
   "id": "6daf7563",
   "metadata": {},
   "outputs": [
    {
     "data": {
      "text/html": [
       "<div>\n",
       "<style scoped>\n",
       "    .dataframe tbody tr th:only-of-type {\n",
       "        vertical-align: middle;\n",
       "    }\n",
       "\n",
       "    .dataframe tbody tr th {\n",
       "        vertical-align: top;\n",
       "    }\n",
       "\n",
       "    .dataframe thead th {\n",
       "        text-align: right;\n",
       "    }\n",
       "</style>\n",
       "<table border=\"1\" class=\"dataframe\">\n",
       "  <thead>\n",
       "    <tr style=\"text-align: right;\">\n",
       "      <th></th>\n",
       "      <th>Baseline</th>\n",
       "      <th>RNN</th>\n",
       "      <th>LSTM</th>\n",
       "      <th>GRU</th>\n",
       "    </tr>\n",
       "  </thead>\n",
       "  <tbody>\n",
       "    <tr>\n",
       "      <th>Train</th>\n",
       "      <td>3.7742</td>\n",
       "      <td>3.7734</td>\n",
       "      <td>3.7734</td>\n",
       "      <td>3.7734</td>\n",
       "    </tr>\n",
       "    <tr>\n",
       "      <th>Validation</th>\n",
       "      <td>3.6844</td>\n",
       "      <td>3.6828</td>\n",
       "      <td>3.6828</td>\n",
       "      <td>3.6828</td>\n",
       "    </tr>\n",
       "    <tr>\n",
       "      <th>Test</th>\n",
       "      <td>3.0761</td>\n",
       "      <td>3.0599</td>\n",
       "      <td>3.0584</td>\n",
       "      <td>3.0592</td>\n",
       "    </tr>\n",
       "  </tbody>\n",
       "</table>\n",
       "</div>"
      ],
      "text/plain": [
       "            Baseline     RNN    LSTM     GRU\n",
       "Train         3.7742  3.7734  3.7734  3.7734\n",
       "Validation    3.6844  3.6828  3.6828  3.6828\n",
       "Test          3.0761  3.0599  3.0584  3.0592"
      ]
     },
     "execution_count": 12,
     "metadata": {},
     "output_type": "execute_result"
    }
   ],
   "source": [
    "data_errors = {\n",
    "    'Baseline': [avg_train_baseline_errors, avg_val_baseline_errors, avg_test_baseline_errors],\n",
    "    'RNN': [avg_train_errors_RNN, avg_val_errors_RNN, avg_test_errors_RNN],\n",
    "    'LSTM': [avg_train_errors_LSTM, avg_val_errors_LSTM, avg_test_errors_LSTM],\n",
    "    'GRU': [avg_train_errors_GRU, avg_val_errors_GRU, avg_test_errors_GRU]\n",
    "    }\n",
    "\n",
    "df_errors = pd.DataFrame(data=data_errors, index=['Train', 'Validation', 'Test']) * 100\n",
    "df_errors = df_errors.apply(lambda x: round(x, 4))\n",
    "df_errors"
   ]
  }
 ],
 "metadata": {
  "kernelspec": {
   "display_name": "base",
   "language": "python",
   "name": "python3"
  },
  "language_info": {
   "codemirror_mode": {
    "name": "ipython",
    "version": 3
   },
   "file_extension": ".py",
   "mimetype": "text/x-python",
   "name": "python",
   "nbconvert_exporter": "python",
   "pygments_lexer": "ipython3",
   "version": "3.12.2"
  }
 },
 "nbformat": 4,
 "nbformat_minor": 5
}
